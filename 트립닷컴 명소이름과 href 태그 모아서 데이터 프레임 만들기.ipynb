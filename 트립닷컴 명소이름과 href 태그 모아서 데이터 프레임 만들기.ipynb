{
 "cells": [
  {
   "cell_type": "code",
   "execution_count": 1,
   "metadata": {},
   "outputs": [],
   "source": [
    "# 후기 스크래핑"
   ]
  },
  {
   "cell_type": "code",
   "execution_count": 2,
   "metadata": {
    "scrolled": true
   },
   "outputs": [
    {
     "name": "stdout",
     "output_type": "stream",
     "text": [
      "Requirement already satisfied: cssselect in c:\\users\\parkminwoo\\anaconda3\\lib\\site-packages (1.1.0)\n"
     ]
    }
   ],
   "source": [
    "!pip install cssselect"
   ]
  },
  {
   "cell_type": "code",
   "execution_count": 3,
   "metadata": {},
   "outputs": [
    {
     "name": "stdout",
     "output_type": "stream",
     "text": [
      "Requirement already satisfied: selenium in c:\\users\\parkminwoo\\anaconda3\\lib\\site-packages (3.141.0)\n",
      "Requirement already satisfied: urllib3 in c:\\users\\parkminwoo\\anaconda3\\lib\\site-packages (from selenium) (1.25.8)\n"
     ]
    }
   ],
   "source": [
    "!pip install selenium"
   ]
  },
  {
   "cell_type": "code",
   "execution_count": 4,
   "metadata": {},
   "outputs": [],
   "source": [
    "import urllib.parse\n",
    "import time\n",
    "import requests\n",
    "import lxml.html\n",
    "import pandas as pd\n",
    "from selenium.webdriver import Chrome"
   ]
  },
  {
   "cell_type": "code",
   "execution_count": null,
   "metadata": {},
   "outputs": [],
   "source": [
    "# 페이지 입력"
   ]
  },
  {
   "cell_type": "code",
   "execution_count": null,
   "metadata": {},
   "outputs": [],
   "source": [
    "url = 'https://www.trip.com/travel-guide/seoul/myeong-dong-10524255/'\n",
    "res = requests.get(url)"
   ]
  },
  {
   "cell_type": "code",
   "execution_count": null,
   "metadata": {},
   "outputs": [],
   "source": [
    "# 리뷰 크롤링"
   ]
  },
  {
   "cell_type": "code",
   "execution_count": null,
   "metadata": {},
   "outputs": [],
   "source": [
    "root = lxml.html.fromstring(res.text)\n",
    "\n",
    "root.cssselect('a')\n",
    "\n",
    "root.cssselect('em.cr')\n",
    "\n",
    "links = root.cssselect('p.mt10')\n",
    "\n",
    "links\n",
    "\n",
    "text = []\n",
    "for link in links:\n",
    "    text.append(link.text_content())\n",
    "\n",
    "text"
   ]
  },
  {
   "cell_type": "code",
   "execution_count": null,
   "metadata": {},
   "outputs": [],
   "source": [
    "# 별점 크롤링"
   ]
  },
  {
   "cell_type": "code",
   "execution_count": null,
   "metadata": {},
   "outputs": [],
   "source": [
    "root = lxml.html.fromstring(res.text)\n",
    "\n",
    "root.cssselect('a')\n",
    "\n",
    "root.cssselect('em.cr')\n",
    "\n",
    "links = root.cssselect('span.comment_score')\n",
    "\n",
    "links\n",
    "\n",
    "score = []\n",
    "for link in links:\n",
    "    score.append(link.text_content())\n",
    "\n",
    "score"
   ]
  },
  {
   "cell_type": "code",
   "execution_count": null,
   "metadata": {},
   "outputs": [],
   "source": [
    "root"
   ]
  },
  {
   "cell_type": "code",
   "execution_count": null,
   "metadata": {},
   "outputs": [],
   "source": []
  },
  {
   "cell_type": "code",
   "execution_count": null,
   "metadata": {},
   "outputs": [],
   "source": []
  },
  {
   "cell_type": "code",
   "execution_count": null,
   "metadata": {},
   "outputs": [],
   "source": []
  },
  {
   "cell_type": "code",
   "execution_count": null,
   "metadata": {},
   "outputs": [],
   "source": []
  },
  {
   "cell_type": "code",
   "execution_count": null,
   "metadata": {},
   "outputs": [],
   "source": [
    "df = pd.DataFrame({'score': score, 'text': text})"
   ]
  },
  {
   "cell_type": "code",
   "execution_count": null,
   "metadata": {},
   "outputs": [],
   "source": [
    "df.head()"
   ]
  },
  {
   "cell_type": "code",
   "execution_count": null,
   "metadata": {},
   "outputs": [],
   "source": [
    "df.to_excel('명동1페이지.xlsx')"
   ]
  },
  {
   "cell_type": "markdown",
   "metadata": {},
   "source": [
    "# 셀레늄"
   ]
  },
  {
   "cell_type": "code",
   "execution_count": 5,
   "metadata": {},
   "outputs": [],
   "source": [
    "from selenium import webdriver"
   ]
  },
  {
   "cell_type": "code",
   "execution_count": 6,
   "metadata": {},
   "outputs": [],
   "source": [
    "#brower=Chrome()"
   ]
  },
  {
   "cell_type": "code",
   "execution_count": 8,
   "metadata": {},
   "outputs": [],
   "source": [
    "browser = webdriver.Chrome('C:/Users/parkminwoo/Desktop/R/chromedriver_win32/chromedriver.exe')"
   ]
  },
  {
   "cell_type": "markdown",
   "metadata": {},
   "source": [
    "# 타겟 주소 넣는 곳"
   ]
  },
  {
   "cell_type": "code",
   "execution_count": 9,
   "metadata": {},
   "outputs": [],
   "source": [
    "url = 'https://www.trip.com/travel-guide/seoul-234/tourist-attractions/'"
   ]
  },
  {
   "cell_type": "code",
   "execution_count": 10,
   "metadata": {},
   "outputs": [],
   "source": [
    "browser.get(url)"
   ]
  },
  {
   "cell_type": "markdown",
   "metadata": {},
   "source": [
    "## 링크 찾기"
   ]
  },
  {
   "cell_type": "code",
   "execution_count": 11,
   "metadata": {},
   "outputs": [],
   "source": [
    "active = browser.find_elements_by_css_selector('li.number')"
   ]
  },
  {
   "cell_type": "code",
   "execution_count": 12,
   "metadata": {},
   "outputs": [],
   "source": [
    "for link in active:  \n",
    "    try:\n",
    "        link.click()   \n",
    "        active.append(browser.find_elements_by_css_selector('li.number'))\n",
    "    except :\n",
    "        pass"
   ]
  },
  {
   "cell_type": "code",
   "execution_count": 13,
   "metadata": {},
   "outputs": [],
   "source": [
    "for link in active:  \n",
    "    try:\n",
    "        link.click()   \n",
    "        active.append(browser.find_elements_by_css_selector('li.number'))\n",
    "    except :\n",
    "        pass"
   ]
  },
  {
   "cell_type": "code",
   "execution_count": 14,
   "metadata": {},
   "outputs": [],
   "source": [
    "for link in active:  \n",
    "    try:\n",
    "        link.click()   \n",
    "        active.append(browser.find_elements_by_css_selector('li.number'))\n",
    "    except :\n",
    "        pass"
   ]
  },
  {
   "cell_type": "code",
   "execution_count": 15,
   "metadata": {},
   "outputs": [],
   "source": [
    "for link in active:  \n",
    "    try:\n",
    "        link.click()   \n",
    "        active.append(browser.find_elements_by_css_selector('li.number'))\n",
    "    except :\n",
    "        pass"
   ]
  },
  {
   "cell_type": "code",
   "execution_count": 16,
   "metadata": {},
   "outputs": [],
   "source": [
    "more_links=active"
   ]
  },
  {
   "cell_type": "code",
   "execution_count": 17,
   "metadata": {
    "scrolled": false
   },
   "outputs": [
    {
     "data": {
      "text/plain": [
       "[<selenium.webdriver.remote.webelement.WebElement (session=\"05803343144f3371c9a6f4c96b12bdc5\", element=\"8e6c10f3-59d8-4df5-9cd0-a948fed50380\")>,\n",
       " <selenium.webdriver.remote.webelement.WebElement (session=\"05803343144f3371c9a6f4c96b12bdc5\", element=\"11310915-6a97-4250-b456-54f3bff42091\")>,\n",
       " <selenium.webdriver.remote.webelement.WebElement (session=\"05803343144f3371c9a6f4c96b12bdc5\", element=\"e867358e-50e1-47d5-9486-1eaefb89b0be\")>,\n",
       " <selenium.webdriver.remote.webelement.WebElement (session=\"05803343144f3371c9a6f4c96b12bdc5\", element=\"0c2bbc24-369e-4188-bbf0-04f4aff0f63c\")>,\n",
       " <selenium.webdriver.remote.webelement.WebElement (session=\"05803343144f3371c9a6f4c96b12bdc5\", element=\"d612c8c4-3d6f-4a50-a72e-d4892a94f336\")>,\n",
       " <selenium.webdriver.remote.webelement.WebElement (session=\"05803343144f3371c9a6f4c96b12bdc5\", element=\"0b0a7679-7ee4-41a7-a429-b3c1b1dd57ea\")>,\n",
       " [<selenium.webdriver.remote.webelement.WebElement (session=\"05803343144f3371c9a6f4c96b12bdc5\", element=\"8e6c10f3-59d8-4df5-9cd0-a948fed50380\")>,\n",
       "  <selenium.webdriver.remote.webelement.WebElement (session=\"05803343144f3371c9a6f4c96b12bdc5\", element=\"11310915-6a97-4250-b456-54f3bff42091\")>,\n",
       "  <selenium.webdriver.remote.webelement.WebElement (session=\"05803343144f3371c9a6f4c96b12bdc5\", element=\"e867358e-50e1-47d5-9486-1eaefb89b0be\")>,\n",
       "  <selenium.webdriver.remote.webelement.WebElement (session=\"05803343144f3371c9a6f4c96b12bdc5\", element=\"0c2bbc24-369e-4188-bbf0-04f4aff0f63c\")>,\n",
       "  <selenium.webdriver.remote.webelement.WebElement (session=\"05803343144f3371c9a6f4c96b12bdc5\", element=\"d612c8c4-3d6f-4a50-a72e-d4892a94f336\")>,\n",
       "  <selenium.webdriver.remote.webelement.WebElement (session=\"05803343144f3371c9a6f4c96b12bdc5\", element=\"0b0a7679-7ee4-41a7-a429-b3c1b1dd57ea\")>],\n",
       " [<selenium.webdriver.remote.webelement.WebElement (session=\"05803343144f3371c9a6f4c96b12bdc5\", element=\"8e6c10f3-59d8-4df5-9cd0-a948fed50380\")>,\n",
       "  <selenium.webdriver.remote.webelement.WebElement (session=\"05803343144f3371c9a6f4c96b12bdc5\", element=\"11310915-6a97-4250-b456-54f3bff42091\")>,\n",
       "  <selenium.webdriver.remote.webelement.WebElement (session=\"05803343144f3371c9a6f4c96b12bdc5\", element=\"e867358e-50e1-47d5-9486-1eaefb89b0be\")>,\n",
       "  <selenium.webdriver.remote.webelement.WebElement (session=\"05803343144f3371c9a6f4c96b12bdc5\", element=\"0c2bbc24-369e-4188-bbf0-04f4aff0f63c\")>,\n",
       "  <selenium.webdriver.remote.webelement.WebElement (session=\"05803343144f3371c9a6f4c96b12bdc5\", element=\"d612c8c4-3d6f-4a50-a72e-d4892a94f336\")>,\n",
       "  <selenium.webdriver.remote.webelement.WebElement (session=\"05803343144f3371c9a6f4c96b12bdc5\", element=\"0b0a7679-7ee4-41a7-a429-b3c1b1dd57ea\")>],\n",
       " [<selenium.webdriver.remote.webelement.WebElement (session=\"05803343144f3371c9a6f4c96b12bdc5\", element=\"8e6c10f3-59d8-4df5-9cd0-a948fed50380\")>,\n",
       "  <selenium.webdriver.remote.webelement.WebElement (session=\"05803343144f3371c9a6f4c96b12bdc5\", element=\"11310915-6a97-4250-b456-54f3bff42091\")>,\n",
       "  <selenium.webdriver.remote.webelement.WebElement (session=\"05803343144f3371c9a6f4c96b12bdc5\", element=\"e867358e-50e1-47d5-9486-1eaefb89b0be\")>,\n",
       "  <selenium.webdriver.remote.webelement.WebElement (session=\"05803343144f3371c9a6f4c96b12bdc5\", element=\"0c2bbc24-369e-4188-bbf0-04f4aff0f63c\")>,\n",
       "  <selenium.webdriver.remote.webelement.WebElement (session=\"05803343144f3371c9a6f4c96b12bdc5\", element=\"d612c8c4-3d6f-4a50-a72e-d4892a94f336\")>,\n",
       "  <selenium.webdriver.remote.webelement.WebElement (session=\"05803343144f3371c9a6f4c96b12bdc5\", element=\"0b0a7679-7ee4-41a7-a429-b3c1b1dd57ea\")>],\n",
       " [<selenium.webdriver.remote.webelement.WebElement (session=\"05803343144f3371c9a6f4c96b12bdc5\", element=\"8e6c10f3-59d8-4df5-9cd0-a948fed50380\")>,\n",
       "  <selenium.webdriver.remote.webelement.WebElement (session=\"05803343144f3371c9a6f4c96b12bdc5\", element=\"11310915-6a97-4250-b456-54f3bff42091\")>,\n",
       "  <selenium.webdriver.remote.webelement.WebElement (session=\"05803343144f3371c9a6f4c96b12bdc5\", element=\"e867358e-50e1-47d5-9486-1eaefb89b0be\")>,\n",
       "  <selenium.webdriver.remote.webelement.WebElement (session=\"05803343144f3371c9a6f4c96b12bdc5\", element=\"0c2bbc24-369e-4188-bbf0-04f4aff0f63c\")>,\n",
       "  <selenium.webdriver.remote.webelement.WebElement (session=\"05803343144f3371c9a6f4c96b12bdc5\", element=\"d612c8c4-3d6f-4a50-a72e-d4892a94f336\")>,\n",
       "  <selenium.webdriver.remote.webelement.WebElement (session=\"05803343144f3371c9a6f4c96b12bdc5\", element=\"0b0a7679-7ee4-41a7-a429-b3c1b1dd57ea\")>],\n",
       " [<selenium.webdriver.remote.webelement.WebElement (session=\"05803343144f3371c9a6f4c96b12bdc5\", element=\"8e6c10f3-59d8-4df5-9cd0-a948fed50380\")>,\n",
       "  <selenium.webdriver.remote.webelement.WebElement (session=\"05803343144f3371c9a6f4c96b12bdc5\", element=\"11310915-6a97-4250-b456-54f3bff42091\")>,\n",
       "  <selenium.webdriver.remote.webelement.WebElement (session=\"05803343144f3371c9a6f4c96b12bdc5\", element=\"e867358e-50e1-47d5-9486-1eaefb89b0be\")>,\n",
       "  <selenium.webdriver.remote.webelement.WebElement (session=\"05803343144f3371c9a6f4c96b12bdc5\", element=\"0c2bbc24-369e-4188-bbf0-04f4aff0f63c\")>,\n",
       "  <selenium.webdriver.remote.webelement.WebElement (session=\"05803343144f3371c9a6f4c96b12bdc5\", element=\"d612c8c4-3d6f-4a50-a72e-d4892a94f336\")>,\n",
       "  <selenium.webdriver.remote.webelement.WebElement (session=\"05803343144f3371c9a6f4c96b12bdc5\", element=\"fc28fe06-d0d3-4c7f-bfbc-7e6490980fa9\")>,\n",
       "  <selenium.webdriver.remote.webelement.WebElement (session=\"05803343144f3371c9a6f4c96b12bdc5\", element=\"0b0a7679-7ee4-41a7-a429-b3c1b1dd57ea\")>],\n",
       " [<selenium.webdriver.remote.webelement.WebElement (session=\"05803343144f3371c9a6f4c96b12bdc5\", element=\"8e6c10f3-59d8-4df5-9cd0-a948fed50380\")>,\n",
       "  <selenium.webdriver.remote.webelement.WebElement (session=\"05803343144f3371c9a6f4c96b12bdc5\", element=\"11310915-6a97-4250-b456-54f3bff42091\")>,\n",
       "  <selenium.webdriver.remote.webelement.WebElement (session=\"05803343144f3371c9a6f4c96b12bdc5\", element=\"e867358e-50e1-47d5-9486-1eaefb89b0be\")>,\n",
       "  <selenium.webdriver.remote.webelement.WebElement (session=\"05803343144f3371c9a6f4c96b12bdc5\", element=\"0c2bbc24-369e-4188-bbf0-04f4aff0f63c\")>,\n",
       "  <selenium.webdriver.remote.webelement.WebElement (session=\"05803343144f3371c9a6f4c96b12bdc5\", element=\"d612c8c4-3d6f-4a50-a72e-d4892a94f336\")>,\n",
       "  <selenium.webdriver.remote.webelement.WebElement (session=\"05803343144f3371c9a6f4c96b12bdc5\", element=\"fc28fe06-d0d3-4c7f-bfbc-7e6490980fa9\")>,\n",
       "  <selenium.webdriver.remote.webelement.WebElement (session=\"05803343144f3371c9a6f4c96b12bdc5\", element=\"0b0a7679-7ee4-41a7-a429-b3c1b1dd57ea\")>],\n",
       " [<selenium.webdriver.remote.webelement.WebElement (session=\"05803343144f3371c9a6f4c96b12bdc5\", element=\"8e6c10f3-59d8-4df5-9cd0-a948fed50380\")>,\n",
       "  <selenium.webdriver.remote.webelement.WebElement (session=\"05803343144f3371c9a6f4c96b12bdc5\", element=\"11310915-6a97-4250-b456-54f3bff42091\")>,\n",
       "  <selenium.webdriver.remote.webelement.WebElement (session=\"05803343144f3371c9a6f4c96b12bdc5\", element=\"e867358e-50e1-47d5-9486-1eaefb89b0be\")>,\n",
       "  <selenium.webdriver.remote.webelement.WebElement (session=\"05803343144f3371c9a6f4c96b12bdc5\", element=\"0c2bbc24-369e-4188-bbf0-04f4aff0f63c\")>,\n",
       "  <selenium.webdriver.remote.webelement.WebElement (session=\"05803343144f3371c9a6f4c96b12bdc5\", element=\"d612c8c4-3d6f-4a50-a72e-d4892a94f336\")>,\n",
       "  <selenium.webdriver.remote.webelement.WebElement (session=\"05803343144f3371c9a6f4c96b12bdc5\", element=\"0b0a7679-7ee4-41a7-a429-b3c1b1dd57ea\")>],\n",
       " [<selenium.webdriver.remote.webelement.WebElement (session=\"05803343144f3371c9a6f4c96b12bdc5\", element=\"8e6c10f3-59d8-4df5-9cd0-a948fed50380\")>,\n",
       "  <selenium.webdriver.remote.webelement.WebElement (session=\"05803343144f3371c9a6f4c96b12bdc5\", element=\"11310915-6a97-4250-b456-54f3bff42091\")>,\n",
       "  <selenium.webdriver.remote.webelement.WebElement (session=\"05803343144f3371c9a6f4c96b12bdc5\", element=\"e867358e-50e1-47d5-9486-1eaefb89b0be\")>,\n",
       "  <selenium.webdriver.remote.webelement.WebElement (session=\"05803343144f3371c9a6f4c96b12bdc5\", element=\"0c2bbc24-369e-4188-bbf0-04f4aff0f63c\")>,\n",
       "  <selenium.webdriver.remote.webelement.WebElement (session=\"05803343144f3371c9a6f4c96b12bdc5\", element=\"d612c8c4-3d6f-4a50-a72e-d4892a94f336\")>,\n",
       "  <selenium.webdriver.remote.webelement.WebElement (session=\"05803343144f3371c9a6f4c96b12bdc5\", element=\"0b0a7679-7ee4-41a7-a429-b3c1b1dd57ea\")>],\n",
       " [<selenium.webdriver.remote.webelement.WebElement (session=\"05803343144f3371c9a6f4c96b12bdc5\", element=\"8e6c10f3-59d8-4df5-9cd0-a948fed50380\")>,\n",
       "  <selenium.webdriver.remote.webelement.WebElement (session=\"05803343144f3371c9a6f4c96b12bdc5\", element=\"11310915-6a97-4250-b456-54f3bff42091\")>,\n",
       "  <selenium.webdriver.remote.webelement.WebElement (session=\"05803343144f3371c9a6f4c96b12bdc5\", element=\"e867358e-50e1-47d5-9486-1eaefb89b0be\")>,\n",
       "  <selenium.webdriver.remote.webelement.WebElement (session=\"05803343144f3371c9a6f4c96b12bdc5\", element=\"0c2bbc24-369e-4188-bbf0-04f4aff0f63c\")>,\n",
       "  <selenium.webdriver.remote.webelement.WebElement (session=\"05803343144f3371c9a6f4c96b12bdc5\", element=\"d612c8c4-3d6f-4a50-a72e-d4892a94f336\")>,\n",
       "  <selenium.webdriver.remote.webelement.WebElement (session=\"05803343144f3371c9a6f4c96b12bdc5\", element=\"0b0a7679-7ee4-41a7-a429-b3c1b1dd57ea\")>],\n",
       " [<selenium.webdriver.remote.webelement.WebElement (session=\"05803343144f3371c9a6f4c96b12bdc5\", element=\"8e6c10f3-59d8-4df5-9cd0-a948fed50380\")>,\n",
       "  <selenium.webdriver.remote.webelement.WebElement (session=\"05803343144f3371c9a6f4c96b12bdc5\", element=\"11310915-6a97-4250-b456-54f3bff42091\")>,\n",
       "  <selenium.webdriver.remote.webelement.WebElement (session=\"05803343144f3371c9a6f4c96b12bdc5\", element=\"e867358e-50e1-47d5-9486-1eaefb89b0be\")>,\n",
       "  <selenium.webdriver.remote.webelement.WebElement (session=\"05803343144f3371c9a6f4c96b12bdc5\", element=\"0c2bbc24-369e-4188-bbf0-04f4aff0f63c\")>,\n",
       "  <selenium.webdriver.remote.webelement.WebElement (session=\"05803343144f3371c9a6f4c96b12bdc5\", element=\"d612c8c4-3d6f-4a50-a72e-d4892a94f336\")>,\n",
       "  <selenium.webdriver.remote.webelement.WebElement (session=\"05803343144f3371c9a6f4c96b12bdc5\", element=\"46690d5b-39fa-499a-bdaf-b0826a6cbac3\")>,\n",
       "  <selenium.webdriver.remote.webelement.WebElement (session=\"05803343144f3371c9a6f4c96b12bdc5\", element=\"0b0a7679-7ee4-41a7-a429-b3c1b1dd57ea\")>],\n",
       " [<selenium.webdriver.remote.webelement.WebElement (session=\"05803343144f3371c9a6f4c96b12bdc5\", element=\"8e6c10f3-59d8-4df5-9cd0-a948fed50380\")>,\n",
       "  <selenium.webdriver.remote.webelement.WebElement (session=\"05803343144f3371c9a6f4c96b12bdc5\", element=\"11310915-6a97-4250-b456-54f3bff42091\")>,\n",
       "  <selenium.webdriver.remote.webelement.WebElement (session=\"05803343144f3371c9a6f4c96b12bdc5\", element=\"e867358e-50e1-47d5-9486-1eaefb89b0be\")>,\n",
       "  <selenium.webdriver.remote.webelement.WebElement (session=\"05803343144f3371c9a6f4c96b12bdc5\", element=\"0c2bbc24-369e-4188-bbf0-04f4aff0f63c\")>,\n",
       "  <selenium.webdriver.remote.webelement.WebElement (session=\"05803343144f3371c9a6f4c96b12bdc5\", element=\"d612c8c4-3d6f-4a50-a72e-d4892a94f336\")>,\n",
       "  <selenium.webdriver.remote.webelement.WebElement (session=\"05803343144f3371c9a6f4c96b12bdc5\", element=\"0b0a7679-7ee4-41a7-a429-b3c1b1dd57ea\")>],\n",
       " [<selenium.webdriver.remote.webelement.WebElement (session=\"05803343144f3371c9a6f4c96b12bdc5\", element=\"8e6c10f3-59d8-4df5-9cd0-a948fed50380\")>,\n",
       "  <selenium.webdriver.remote.webelement.WebElement (session=\"05803343144f3371c9a6f4c96b12bdc5\", element=\"11310915-6a97-4250-b456-54f3bff42091\")>,\n",
       "  <selenium.webdriver.remote.webelement.WebElement (session=\"05803343144f3371c9a6f4c96b12bdc5\", element=\"e867358e-50e1-47d5-9486-1eaefb89b0be\")>,\n",
       "  <selenium.webdriver.remote.webelement.WebElement (session=\"05803343144f3371c9a6f4c96b12bdc5\", element=\"0c2bbc24-369e-4188-bbf0-04f4aff0f63c\")>,\n",
       "  <selenium.webdriver.remote.webelement.WebElement (session=\"05803343144f3371c9a6f4c96b12bdc5\", element=\"d612c8c4-3d6f-4a50-a72e-d4892a94f336\")>,\n",
       "  <selenium.webdriver.remote.webelement.WebElement (session=\"05803343144f3371c9a6f4c96b12bdc5\", element=\"0b0a7679-7ee4-41a7-a429-b3c1b1dd57ea\")>],\n",
       " [<selenium.webdriver.remote.webelement.WebElement (session=\"05803343144f3371c9a6f4c96b12bdc5\", element=\"8e6c10f3-59d8-4df5-9cd0-a948fed50380\")>,\n",
       "  <selenium.webdriver.remote.webelement.WebElement (session=\"05803343144f3371c9a6f4c96b12bdc5\", element=\"11310915-6a97-4250-b456-54f3bff42091\")>,\n",
       "  <selenium.webdriver.remote.webelement.WebElement (session=\"05803343144f3371c9a6f4c96b12bdc5\", element=\"e867358e-50e1-47d5-9486-1eaefb89b0be\")>,\n",
       "  <selenium.webdriver.remote.webelement.WebElement (session=\"05803343144f3371c9a6f4c96b12bdc5\", element=\"0c2bbc24-369e-4188-bbf0-04f4aff0f63c\")>,\n",
       "  <selenium.webdriver.remote.webelement.WebElement (session=\"05803343144f3371c9a6f4c96b12bdc5\", element=\"d612c8c4-3d6f-4a50-a72e-d4892a94f336\")>,\n",
       "  <selenium.webdriver.remote.webelement.WebElement (session=\"05803343144f3371c9a6f4c96b12bdc5\", element=\"b5526261-0bdf-4e3d-a8d7-bdf9db179086\")>,\n",
       "  <selenium.webdriver.remote.webelement.WebElement (session=\"05803343144f3371c9a6f4c96b12bdc5\", element=\"0b0a7679-7ee4-41a7-a429-b3c1b1dd57ea\")>]]"
      ]
     },
     "execution_count": 17,
     "metadata": {},
     "output_type": "execute_result"
    }
   ],
   "source": [
    "more_links"
   ]
  },
  {
   "cell_type": "code",
   "execution_count": 17,
   "metadata": {},
   "outputs": [],
   "source": [
    "time.sleep(10)"
   ]
  },
  {
   "cell_type": "code",
   "execution_count": 22,
   "metadata": {
    "scrolled": true
   },
   "outputs": [
    {
     "name": "stdout",
     "output_type": "stream",
     "text": [
      "Myeong-dong Street\n",
      "N Seoul Tower\n",
      "Bukchon Hanok Village\n",
      "Namsan Park\n",
      "Gyeongbokgung Palace\n",
      "Cheonggyecheon\n",
      "Sinsa-dong\n",
      "Ewha Womans University\n",
      "Nanshan Cable Car\n",
      "Cheong Wa Dae\n",
      "Popular Attractions in Seoul\n",
      "Recommended Restaurants in Seoul\n",
      "Popular Hotels in Seoul\n",
      "Popular Destinations\n",
      "Related Links\n",
      "About\n",
      "Other Services\n",
      "Contact Us\n",
      "Myeong Dong\n",
      "N Seoul Tower\n",
      "Itaewon\n",
      "Gwanghwamun Square\n",
      "Dongdaemun Design Plaza\n",
      "Deoksugung Palace\n",
      "Gwangjang Market\n",
      "Ihwa Mural Village\n",
      "63 square\n",
      "Dongdaemun\n",
      "Popular Attractions in Seoul\n",
      "Recommended Restaurants in Seoul\n",
      "Popular Hotels in Seoul\n",
      "Popular Destinations\n",
      "Related Links\n",
      "About\n",
      "Other Services\n",
      "Contact Us\n",
      "Insadong\n",
      "Alive 4D Art Museum (Insa-dong Main Branch)\n",
      "Leeum Samsung Museum of Art\n",
      "COEX Aquarium\n",
      "Hongik University\n",
      "National Palace Museum of Korea\n",
      "Youeido Han River Park\n",
      "War Memorial of Korea\n",
      "Seoul City Hall\n",
      "S.M.Entertainment\n",
      "Popular Attractions in Seoul\n",
      "Recommended Restaurants in Seoul\n",
      "Popular Hotels in Seoul\n",
      "Popular Destinations\n",
      "Related Links\n",
      "About\n",
      "Other Services\n",
      "Contact Us\n",
      "National Folk Museum\n",
      "Bank of Korea Money Museum\n",
      "Namsangol Hanok Village\n",
      "Gyeonghuigung Palace\n",
      "Korea House\n",
      "Love Museum\n",
      "Haneul Park\n",
      "Seoul Daehangno\n",
      "Cheongdam Dong\n",
      "Seoul Museum of Art\n",
      "Popular Attractions in Seoul\n",
      "Recommended Restaurants in Seoul\n",
      "Popular Hotels in Seoul\n",
      "Popular Destinations\n",
      "Related Links\n",
      "About\n",
      "Other Services\n",
      "Contact Us\n",
      "Changdeokgung Palace\n",
      "Bongeunsa Temple\n",
      "Children's Grand Park\n",
      "National Museum of Korea\n",
      "Yeouido\n",
      "Sinchon-dong\n",
      "SMTOWN\n",
      "Poopoo Land\n",
      "Naksan Park\n",
      "Myeongdong Catholic Cathedral\n",
      "Popular Attractions in Seoul\n",
      "Recommended Restaurants in Seoul\n",
      "Popular Hotels in Seoul\n",
      "Popular Destinations\n",
      "Related Links\n",
      "About\n",
      "Other Services\n",
      "Contact Us\n",
      "Myeong-dong Street\n",
      "Bongeunsa Temple\n",
      "Kepco Electricity Museum\n",
      "Museum of Natural Dye Arts\n",
      "Seoseokdae\n",
      "Geongyeolsa Shrine\n",
      "Wolmyeong Park\n",
      "ski911\n",
      "The Spa Grand Hyatt Seoul\n",
      "Seongnam Arts Center\n",
      "Popular Attractions in Seoul\n",
      "Recommended Restaurants in Seoul\n",
      "Popular Hotels in Seoul\n",
      "Popular Destinations\n",
      "Related Links\n",
      "About\n",
      "Other Services\n",
      "Contact Us\n"
     ]
    }
   ],
   "source": [
    "site=[]\n",
    "\n",
    "for link in more_links:  \n",
    "    try:\n",
    "        link.click()   \n",
    "        reviews = browser.find_elements_by_css_selector('h3')\n",
    "\n",
    "        for review in reviews:\n",
    "            print(review.text)            \n",
    "            for review in reviews:\n",
    "                site.append(review.text)\n",
    "    \n",
    "    except:              \n",
    "        pass           "
   ]
  },
  {
   "cell_type": "code",
   "execution_count": null,
   "metadata": {},
   "outputs": [],
   "source": []
  },
  {
   "cell_type": "code",
   "execution_count": 40,
   "metadata": {},
   "outputs": [],
   "source": [
    "site=[]\n",
    "\n",
    "for link in more_links:  \n",
    "    try:\n",
    "        link.click()   \n",
    "\n",
    "        reviews = browser.find_elements_by_css_selector('href')\n",
    "\n",
    "        for review in reviews:\n",
    "            print(review.text)            \n",
    "            for review in reviews:\n",
    "                site.append(review.text)\n",
    "    \n",
    "    except:              \n",
    "        pass           "
   ]
  },
  {
   "cell_type": "code",
   "execution_count": 41,
   "metadata": {},
   "outputs": [
    {
     "data": {
      "text/plain": [
       "[]"
      ]
     },
     "execution_count": 41,
     "metadata": {},
     "output_type": "execute_result"
    }
   ],
   "source": [
    "site"
   ]
  },
  {
   "cell_type": "code",
   "execution_count": null,
   "metadata": {},
   "outputs": [],
   "source": []
  },
  {
   "cell_type": "code",
   "execution_count": 24,
   "metadata": {
    "scrolled": true
   },
   "outputs": [
    {
     "data": {
      "text/plain": [
       "[]"
      ]
     },
     "execution_count": 24,
     "metadata": {},
     "output_type": "execute_result"
    }
   ],
   "source": []
  },
  {
   "cell_type": "code",
   "execution_count": null,
   "metadata": {},
   "outputs": [],
   "source": []
  },
  {
   "cell_type": "code",
   "execution_count": null,
   "metadata": {},
   "outputs": [],
   "source": []
  },
  {
   "cell_type": "code",
   "execution_count": null,
   "metadata": {},
   "outputs": [],
   "source": []
  },
  {
   "cell_type": "code",
   "execution_count": null,
   "metadata": {},
   "outputs": [],
   "source": []
  },
  {
   "cell_type": "code",
   "execution_count": 28,
   "metadata": {},
   "outputs": [],
   "source": [
    "root = lxml.html.fromstring(res.text)"
   ]
  },
  {
   "cell_type": "code",
   "execution_count": 29,
   "metadata": {},
   "outputs": [],
   "source": [
    "browser = webdriver.Chrome('C:/Users/parkminwoo/Desktop/R/chromedriver_win32/chromedriver.exe')"
   ]
  },
  {
   "cell_type": "code",
   "execution_count": 32,
   "metadata": {},
   "outputs": [],
   "source": [
    "url = 'https://www.trip.com/travel-guide/seoul-234/tourist-attractions/'\n",
    "res = requests.get(url)"
   ]
  },
  {
   "cell_type": "code",
   "execution_count": 31,
   "metadata": {},
   "outputs": [
    {
     "data": {
      "text/plain": [
       "[]"
      ]
     },
     "execution_count": 31,
     "metadata": {},
     "output_type": "execute_result"
    }
   ],
   "source": [
    "sites = root.cssselect('a')\n",
    "sites = root.cssselect('href')\n",
    "\n",
    "urls = []\n",
    "\n",
    "for site in sites:\n",
    "    open.append(link)\n",
    "\n",
    "urls"
   ]
  },
  {
   "cell_type": "code",
   "execution_count": null,
   "metadata": {},
   "outputs": [],
   "source": []
  },
  {
   "cell_type": "code",
   "execution_count": null,
   "metadata": {},
   "outputs": [],
   "source": []
  },
  {
   "cell_type": "code",
   "execution_count": null,
   "metadata": {},
   "outputs": [],
   "source": []
  },
  {
   "cell_type": "code",
   "execution_count": null,
   "metadata": {},
   "outputs": [],
   "source": []
  },
  {
   "cell_type": "code",
   "execution_count": null,
   "metadata": {},
   "outputs": [],
   "source": []
  },
  {
   "cell_type": "code",
   "execution_count": 21,
   "metadata": {},
   "outputs": [],
   "source": [
    "df = pd.DataFrame({'score': score, 'text': text})"
   ]
  },
  {
   "cell_type": "code",
   "execution_count": 22,
   "metadata": {
    "scrolled": true
   },
   "outputs": [
    {
     "data": {
      "text/html": [
       "<div>\n",
       "<style scoped>\n",
       "    .dataframe tbody tr th:only-of-type {\n",
       "        vertical-align: middle;\n",
       "    }\n",
       "\n",
       "    .dataframe tbody tr th {\n",
       "        vertical-align: top;\n",
       "    }\n",
       "\n",
       "    .dataframe thead th {\n",
       "        text-align: right;\n",
       "    }\n",
       "</style>\n",
       "<table border=\"1\" class=\"dataframe\">\n",
       "  <thead>\n",
       "    <tr style=\"text-align: right;\">\n",
       "      <th></th>\n",
       "      <th>score</th>\n",
       "      <th>text</th>\n",
       "    </tr>\n",
       "  </thead>\n",
       "  <tbody>\n",
       "    <tr>\n",
       "      <th>0</th>\n",
       "      <td>5.0</td>\n",
       "      <td>首尔塔适合情侣夫妻去观赏走走 景色不错可以坐缆车上山往下看首尔的房子 而且明洞购物也很齐全 ...</td>\n",
       "    </tr>\n",
       "    <tr>\n",
       "      <th>1</th>\n",
       "      <td>5.0</td>\n",
       "      <td>越是晚上就越热闹的地方，基本每家化妆品店都会有美女在门口推销，街中间都是小吃，很多美食，国际...</td>\n",
       "    </tr>\n",
       "    <tr>\n",
       "      <th>2</th>\n",
       "      <td>5.0</td>\n",
       "      <td>中国游客的购物美食必去之地…几乎都会中文完全不用担心沟通问题，各种小吃摊，各种品牌云集，还近...</td>\n",
       "    </tr>\n",
       "    <tr>\n",
       "      <th>3</th>\n",
       "      <td>5.0</td>\n",
       "      <td>明洞简直是国人的天堂！都是卖化妆品的！明洞有一家很大的linesfriend的店！</td>\n",
       "    </tr>\n",
       "    <tr>\n",
       "      <th>4</th>\n",
       "      <td>5.0</td>\n",
       "      <td>确实便宜 还有 很多 美食和 小吃 附近的酒店也不少很方便</td>\n",
       "    </tr>\n",
       "    <tr>\n",
       "      <th>...</th>\n",
       "      <td>...</td>\n",
       "      <td>...</td>\n",
       "    </tr>\n",
       "    <tr>\n",
       "      <th>495</th>\n",
       "      <td>5.0</td>\n",
       "      <td>。。。。。。。。。。。。。。。</td>\n",
       "    </tr>\n",
       "    <tr>\n",
       "      <th>496</th>\n",
       "      <td>5.0</td>\n",
       "      <td>来韩国必须要去的地方，各种本土化妆品牌云集，还有各类韩国小吃，还有美女，韩国欧巴，可以逛一整...</td>\n",
       "    </tr>\n",
       "    <tr>\n",
       "      <th>497</th>\n",
       "      <td>5.0</td>\n",
       "      <td>很好逛的明洞 化妝品價格優惠很好買</td>\n",
       "    </tr>\n",
       "    <tr>\n",
       "      <th>498</th>\n",
       "      <td>5.0</td>\n",
       "      <td>明洞有很多专柜，还有一个Line，到明洞必去他家和布朗熊拍照！还有很多路边小吃，最近这家无骨...</td>\n",
       "    </tr>\n",
       "    <tr>\n",
       "      <th>499</th>\n",
       "      <td>5.0</td>\n",
       "      <td>明洞很热闹的一个地方 以前没去过 这次去了之后才发现 明洞是如此的大呀 想兜遍需要点时间的 ...</td>\n",
       "    </tr>\n",
       "  </tbody>\n",
       "</table>\n",
       "<p>500 rows × 2 columns</p>\n",
       "</div>"
      ],
      "text/plain": [
       "    score                                               text\n",
       "0     5.0  首尔塔适合情侣夫妻去观赏走走 景色不错可以坐缆车上山往下看首尔的房子 而且明洞购物也很齐全 ...\n",
       "1     5.0  越是晚上就越热闹的地方，基本每家化妆品店都会有美女在门口推销，街中间都是小吃，很多美食，国际...\n",
       "2     5.0  中国游客的购物美食必去之地…几乎都会中文完全不用担心沟通问题，各种小吃摊，各种品牌云集，还近...\n",
       "3     5.0          明洞简直是国人的天堂！都是卖化妆品的！明洞有一家很大的linesfriend的店！\n",
       "4     5.0                      确实便宜 还有 很多 美食和 小吃 附近的酒店也不少很方便\n",
       "..    ...                                                ...\n",
       "495   5.0                                    。。。。。。。。。。。。。。。\n",
       "496   5.0  来韩国必须要去的地方，各种本土化妆品牌云集，还有各类韩国小吃，还有美女，韩国欧巴，可以逛一整...\n",
       "497   5.0                                  很好逛的明洞 化妝品價格優惠很好買\n",
       "498   5.0  明洞有很多专柜，还有一个Line，到明洞必去他家和布朗熊拍照！还有很多路边小吃，最近这家无骨...\n",
       "499   5.0  明洞很热闹的一个地方 以前没去过 这次去了之后才发现 明洞是如此的大呀 想兜遍需要点时间的 ...\n",
       "\n",
       "[500 rows x 2 columns]"
      ]
     },
     "execution_count": 22,
     "metadata": {},
     "output_type": "execute_result"
    }
   ],
   "source": [
    "df"
   ]
  },
  {
   "cell_type": "code",
   "execution_count": 23,
   "metadata": {},
   "outputs": [],
   "source": [
    "df.to_excel('명동1페이지.xlsx')"
   ]
  },
  {
   "cell_type": "code",
   "execution_count": null,
   "metadata": {},
   "outputs": [],
   "source": []
  }
 ],
 "metadata": {
  "kernelspec": {
   "display_name": "Python 3",
   "language": "python",
   "name": "python3"
  },
  "language_info": {
   "codemirror_mode": {
    "name": "ipython",
    "version": 3
   },
   "file_extension": ".py",
   "mimetype": "text/x-python",
   "name": "python",
   "nbconvert_exporter": "python",
   "pygments_lexer": "ipython3",
   "version": "3.7.6"
  }
 },
 "nbformat": 4,
 "nbformat_minor": 4
}
