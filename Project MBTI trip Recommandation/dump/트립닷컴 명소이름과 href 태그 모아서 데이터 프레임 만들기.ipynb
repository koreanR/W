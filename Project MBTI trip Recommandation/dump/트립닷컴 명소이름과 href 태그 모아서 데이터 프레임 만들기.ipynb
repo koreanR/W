{
 "cells": [
  {
   "cell_type": "code",
   "execution_count": 1,
   "metadata": {},
   "outputs": [],
   "source": [
    "# 후기 스크래핑"
   ]
  },
  {
   "cell_type": "code",
   "execution_count": 2,
   "metadata": {
    "scrolled": true
   },
   "outputs": [
    {
     "name": "stdout",
     "output_type": "stream",
     "text": [
      "Requirement already satisfied: cssselect in c:\\users\\tj\\anaconda3\\lib\\site-packages (1.1.0)\n"
     ]
    }
   ],
   "source": [
    "#!pip install cssselect\n",
    "#!pip install selenium"
   ]
  },
  {
   "cell_type": "code",
   "execution_count": 2,
   "metadata": {},
   "outputs": [],
   "source": [
    "import urllib.parse\n",
    "import time\n",
    "import requests\n",
    "import lxml.html\n",
    "import pandas as pd\n",
    "from selenium.webdriver import Chrome\n",
    "from selenium import webdriver"
   ]
  },
  {
   "cell_type": "code",
   "execution_count": 3,
   "metadata": {},
   "outputs": [],
   "source": [
    "#brower=Chrome()"
   ]
  },
  {
   "cell_type": "code",
   "execution_count": 4,
   "metadata": {},
   "outputs": [
    {
     "ename": "WebDriverException",
     "evalue": "Message: 'chromedriver.exe' executable needs to be in PATH. Please see https://sites.google.com/a/chromium.org/chromedriver/home\n",
     "output_type": "error",
     "traceback": [
      "\u001b[1;31m---------------------------------------------------------------------------\u001b[0m",
      "\u001b[1;31mFileNotFoundError\u001b[0m                         Traceback (most recent call last)",
      "\u001b[1;32mc:\\users\\parkminwoo\\appdata\\local\\programs\\python\\python35\\lib\\site-packages\\selenium\\webdriver\\common\\service.py\u001b[0m in \u001b[0;36mstart\u001b[1;34m(self)\u001b[0m\n\u001b[0;32m     75\u001b[0m                                             \u001b[0mstderr\u001b[0m\u001b[1;33m=\u001b[0m\u001b[0mself\u001b[0m\u001b[1;33m.\u001b[0m\u001b[0mlog_file\u001b[0m\u001b[1;33m,\u001b[0m\u001b[1;33m\u001b[0m\u001b[0m\n\u001b[1;32m---> 76\u001b[1;33m                                             stdin=PIPE)\n\u001b[0m\u001b[0;32m     77\u001b[0m         \u001b[1;32mexcept\u001b[0m \u001b[0mTypeError\u001b[0m\u001b[1;33m:\u001b[0m\u001b[1;33m\u001b[0m\u001b[0m\n",
      "\u001b[1;32mc:\\users\\parkminwoo\\appdata\\local\\programs\\python\\python35\\lib\\subprocess.py\u001b[0m in \u001b[0;36m__init__\u001b[1;34m(self, args, bufsize, executable, stdin, stdout, stderr, preexec_fn, close_fds, shell, cwd, env, universal_newlines, startupinfo, creationflags, restore_signals, start_new_session, pass_fds)\u001b[0m\n\u001b[0;32m    675\u001b[0m                                 \u001b[0merrread\u001b[0m\u001b[1;33m,\u001b[0m \u001b[0merrwrite\u001b[0m\u001b[1;33m,\u001b[0m\u001b[1;33m\u001b[0m\u001b[0m\n\u001b[1;32m--> 676\u001b[1;33m                                 restore_signals, start_new_session)\n\u001b[0m\u001b[0;32m    677\u001b[0m         \u001b[1;32mexcept\u001b[0m\u001b[1;33m:\u001b[0m\u001b[1;33m\u001b[0m\u001b[0m\n",
      "\u001b[1;32mc:\\users\\parkminwoo\\appdata\\local\\programs\\python\\python35\\lib\\subprocess.py\u001b[0m in \u001b[0;36m_execute_child\u001b[1;34m(self, args, executable, preexec_fn, close_fds, pass_fds, cwd, env, startupinfo, creationflags, shell, p2cread, p2cwrite, c2pread, c2pwrite, errread, errwrite, unused_restore_signals, unused_start_new_session)\u001b[0m\n\u001b[0;32m    954\u001b[0m                                          \u001b[0mcwd\u001b[0m\u001b[1;33m,\u001b[0m\u001b[1;33m\u001b[0m\u001b[0m\n\u001b[1;32m--> 955\u001b[1;33m                                          startupinfo)\n\u001b[0m\u001b[0;32m    956\u001b[0m             \u001b[1;32mfinally\u001b[0m\u001b[1;33m:\u001b[0m\u001b[1;33m\u001b[0m\u001b[0m\n",
      "\u001b[1;31mFileNotFoundError\u001b[0m: [WinError 2] 지정된 파일을 찾을 수 없습니다",
      "\nDuring handling of the above exception, another exception occurred:\n",
      "\u001b[1;31mWebDriverException\u001b[0m                        Traceback (most recent call last)",
      "\u001b[1;32m<ipython-input-4-08f2cf3aa331>\u001b[0m in \u001b[0;36m<module>\u001b[1;34m\u001b[0m\n\u001b[0;32m      1\u001b[0m \u001b[1;31m#Download proper version of chrome driver\u001b[0m\u001b[1;33m\u001b[0m\u001b[1;33m\u001b[0m\u001b[0m\n\u001b[0;32m      2\u001b[0m \u001b[1;31m#brower=Chrome()\u001b[0m\u001b[1;33m\u001b[0m\u001b[1;33m\u001b[0m\u001b[0m\n\u001b[1;32m----> 3\u001b[1;33m \u001b[0mbrowser\u001b[0m \u001b[1;33m=\u001b[0m \u001b[0mwebdriver\u001b[0m\u001b[1;33m.\u001b[0m\u001b[0mChrome\u001b[0m\u001b[1;33m(\u001b[0m\u001b[1;34m'C:/Users/TJ/Downloads/chromedriver_win32 (2)/chromedriver.exe'\u001b[0m\u001b[1;33m)\u001b[0m\u001b[1;33m\u001b[0m\u001b[0m\n\u001b[0m",
      "\u001b[1;32mc:\\users\\parkminwoo\\appdata\\local\\programs\\python\\python35\\lib\\site-packages\\selenium\\webdriver\\chrome\\webdriver.py\u001b[0m in \u001b[0;36m__init__\u001b[1;34m(self, executable_path, port, options, service_args, desired_capabilities, service_log_path, chrome_options, keep_alive)\u001b[0m\n\u001b[0;32m     71\u001b[0m             \u001b[0mservice_args\u001b[0m\u001b[1;33m=\u001b[0m\u001b[0mservice_args\u001b[0m\u001b[1;33m,\u001b[0m\u001b[1;33m\u001b[0m\u001b[0m\n\u001b[0;32m     72\u001b[0m             log_path=service_log_path)\n\u001b[1;32m---> 73\u001b[1;33m         \u001b[0mself\u001b[0m\u001b[1;33m.\u001b[0m\u001b[0mservice\u001b[0m\u001b[1;33m.\u001b[0m\u001b[0mstart\u001b[0m\u001b[1;33m(\u001b[0m\u001b[1;33m)\u001b[0m\u001b[1;33m\u001b[0m\u001b[0m\n\u001b[0m\u001b[0;32m     74\u001b[0m \u001b[1;33m\u001b[0m\u001b[0m\n\u001b[0;32m     75\u001b[0m         \u001b[1;32mtry\u001b[0m\u001b[1;33m:\u001b[0m\u001b[1;33m\u001b[0m\u001b[0m\n",
      "\u001b[1;32mc:\\users\\parkminwoo\\appdata\\local\\programs\\python\\python35\\lib\\site-packages\\selenium\\webdriver\\common\\service.py\u001b[0m in \u001b[0;36mstart\u001b[1;34m(self)\u001b[0m\n\u001b[0;32m     81\u001b[0m                 raise WebDriverException(\n\u001b[0;32m     82\u001b[0m                     \"'%s' executable needs to be in PATH. %s\" % (\n\u001b[1;32m---> 83\u001b[1;33m                         os.path.basename(self.path), self.start_error_message)\n\u001b[0m\u001b[0;32m     84\u001b[0m                 )\n\u001b[0;32m     85\u001b[0m             \u001b[1;32melif\u001b[0m \u001b[0merr\u001b[0m\u001b[1;33m.\u001b[0m\u001b[0merrno\u001b[0m \u001b[1;33m==\u001b[0m \u001b[0merrno\u001b[0m\u001b[1;33m.\u001b[0m\u001b[0mEACCES\u001b[0m\u001b[1;33m:\u001b[0m\u001b[1;33m\u001b[0m\u001b[0m\n",
      "\u001b[1;31mWebDriverException\u001b[0m: Message: 'chromedriver.exe' executable needs to be in PATH. Please see https://sites.google.com/a/chromium.org/chromedriver/home\n"
     ]
    }
   ],
   "source": [
    "#Download proper version of chrome driver\n",
    "#https://sites.google.com/a/chromium.org/chromedriver/home\n",
    "#brower=Chrome()\n",
    "browser = webdriver.Chrome('C:/Users/TJ/Downloads/chromedriver_win32 (2)/chromedriver.exe')"
   ]
  },
  {
   "cell_type": "markdown",
   "metadata": {},
   "source": [
    "# 타겟 주소 넣는 곳"
   ]
  },
  {
   "cell_type": "code",
   "execution_count": 18,
   "metadata": {},
   "outputs": [],
   "source": [
    "url = 'https://www.trip.com/travel-guide/seoul-234/tourist-attractions/'\n",
    "browser.get(url)"
   ]
  },
  {
   "cell_type": "code",
   "execution_count": 19,
   "metadata": {},
   "outputs": [],
   "source": [
    "browser.get(url)"
   ]
  },
  {
   "cell_type": "markdown",
   "metadata": {},
   "source": [
    "## 링크 찾기"
   ]
  },
  {
   "cell_type": "code",
   "execution_count": 20,
   "metadata": {},
   "outputs": [],
   "source": [
    "active = browser.find_elements_by_css_selector('li.number')"
   ]
  },
  {
   "cell_type": "code",
   "execution_count": 21,
   "metadata": {},
   "outputs": [],
   "source": [
    "for link in active:  \n",
    "    try:\n",
    "        link.click()   \n",
    "        active.append(browser.find_elements_by_css_selector('li.number'))\n",
    "    except :\n",
    "        pass"
   ]
  },
  {
   "cell_type": "code",
   "execution_count": 22,
   "metadata": {},
   "outputs": [],
   "source": [
    "for link in active:  \n",
    "    try:\n",
    "        link.click()   \n",
    "        active.append(browser.find_elements_by_css_selector('li.number'))\n",
    "    except :\n",
    "        pass"
   ]
  },
  {
   "cell_type": "code",
   "execution_count": 23,
   "metadata": {},
   "outputs": [],
   "source": [
    "for link in active:  \n",
    "    try:\n",
    "        link.click()   \n",
    "        active.append(browser.find_elements_by_css_selector('li.number'))\n",
    "    except :\n",
    "        pass"
   ]
  },
  {
   "cell_type": "code",
   "execution_count": 24,
   "metadata": {},
   "outputs": [],
   "source": [
    "for link in active:  \n",
    "    try:\n",
    "        link.click()   \n",
    "        active.append(browser.find_elements_by_css_selector('li.number'))\n",
    "    except :\n",
    "        pass"
   ]
  },
  {
   "cell_type": "code",
   "execution_count": 25,
   "metadata": {},
   "outputs": [],
   "source": [
    "more_links=active"
   ]
  },
  {
   "cell_type": "code",
   "execution_count": 26,
   "metadata": {
    "scrolled": false
   },
   "outputs": [
    {
     "data": {
      "text/plain": [
       "[<selenium.webdriver.remote.webelement.WebElement (session=\"76b5876c86f759c9c22019262b832ffd\", element=\"ed005f1b-6564-4562-973c-1bdf72af2a04\")>,\n",
       " <selenium.webdriver.remote.webelement.WebElement (session=\"76b5876c86f759c9c22019262b832ffd\", element=\"dcb5e3fa-db23-4dd8-9362-465394fe4307\")>,\n",
       " <selenium.webdriver.remote.webelement.WebElement (session=\"76b5876c86f759c9c22019262b832ffd\", element=\"4a1f6c04-b131-4e27-8da2-31426437f472\")>,\n",
       " <selenium.webdriver.remote.webelement.WebElement (session=\"76b5876c86f759c9c22019262b832ffd\", element=\"cf34e7a7-5970-4636-98f5-afbb021f1681\")>,\n",
       " <selenium.webdriver.remote.webelement.WebElement (session=\"76b5876c86f759c9c22019262b832ffd\", element=\"5ea277d1-02c9-497a-b1b2-71787fea498f\")>,\n",
       " <selenium.webdriver.remote.webelement.WebElement (session=\"76b5876c86f759c9c22019262b832ffd\", element=\"07ca4040-71c8-4097-851a-0b71d4622018\")>,\n",
       " [<selenium.webdriver.remote.webelement.WebElement (session=\"76b5876c86f759c9c22019262b832ffd\", element=\"ed005f1b-6564-4562-973c-1bdf72af2a04\")>,\n",
       "  <selenium.webdriver.remote.webelement.WebElement (session=\"76b5876c86f759c9c22019262b832ffd\", element=\"dcb5e3fa-db23-4dd8-9362-465394fe4307\")>,\n",
       "  <selenium.webdriver.remote.webelement.WebElement (session=\"76b5876c86f759c9c22019262b832ffd\", element=\"4a1f6c04-b131-4e27-8da2-31426437f472\")>,\n",
       "  <selenium.webdriver.remote.webelement.WebElement (session=\"76b5876c86f759c9c22019262b832ffd\", element=\"cf34e7a7-5970-4636-98f5-afbb021f1681\")>,\n",
       "  <selenium.webdriver.remote.webelement.WebElement (session=\"76b5876c86f759c9c22019262b832ffd\", element=\"5ea277d1-02c9-497a-b1b2-71787fea498f\")>,\n",
       "  <selenium.webdriver.remote.webelement.WebElement (session=\"76b5876c86f759c9c22019262b832ffd\", element=\"07ca4040-71c8-4097-851a-0b71d4622018\")>],\n",
       " [<selenium.webdriver.remote.webelement.WebElement (session=\"76b5876c86f759c9c22019262b832ffd\", element=\"ed005f1b-6564-4562-973c-1bdf72af2a04\")>,\n",
       "  <selenium.webdriver.remote.webelement.WebElement (session=\"76b5876c86f759c9c22019262b832ffd\", element=\"dcb5e3fa-db23-4dd8-9362-465394fe4307\")>,\n",
       "  <selenium.webdriver.remote.webelement.WebElement (session=\"76b5876c86f759c9c22019262b832ffd\", element=\"4a1f6c04-b131-4e27-8da2-31426437f472\")>,\n",
       "  <selenium.webdriver.remote.webelement.WebElement (session=\"76b5876c86f759c9c22019262b832ffd\", element=\"cf34e7a7-5970-4636-98f5-afbb021f1681\")>,\n",
       "  <selenium.webdriver.remote.webelement.WebElement (session=\"76b5876c86f759c9c22019262b832ffd\", element=\"5ea277d1-02c9-497a-b1b2-71787fea498f\")>,\n",
       "  <selenium.webdriver.remote.webelement.WebElement (session=\"76b5876c86f759c9c22019262b832ffd\", element=\"07ca4040-71c8-4097-851a-0b71d4622018\")>],\n",
       " [<selenium.webdriver.remote.webelement.WebElement (session=\"76b5876c86f759c9c22019262b832ffd\", element=\"ed005f1b-6564-4562-973c-1bdf72af2a04\")>,\n",
       "  <selenium.webdriver.remote.webelement.WebElement (session=\"76b5876c86f759c9c22019262b832ffd\", element=\"dcb5e3fa-db23-4dd8-9362-465394fe4307\")>,\n",
       "  <selenium.webdriver.remote.webelement.WebElement (session=\"76b5876c86f759c9c22019262b832ffd\", element=\"4a1f6c04-b131-4e27-8da2-31426437f472\")>,\n",
       "  <selenium.webdriver.remote.webelement.WebElement (session=\"76b5876c86f759c9c22019262b832ffd\", element=\"cf34e7a7-5970-4636-98f5-afbb021f1681\")>,\n",
       "  <selenium.webdriver.remote.webelement.WebElement (session=\"76b5876c86f759c9c22019262b832ffd\", element=\"5ea277d1-02c9-497a-b1b2-71787fea498f\")>,\n",
       "  <selenium.webdriver.remote.webelement.WebElement (session=\"76b5876c86f759c9c22019262b832ffd\", element=\"07ca4040-71c8-4097-851a-0b71d4622018\")>],\n",
       " [<selenium.webdriver.remote.webelement.WebElement (session=\"76b5876c86f759c9c22019262b832ffd\", element=\"ed005f1b-6564-4562-973c-1bdf72af2a04\")>,\n",
       "  <selenium.webdriver.remote.webelement.WebElement (session=\"76b5876c86f759c9c22019262b832ffd\", element=\"dcb5e3fa-db23-4dd8-9362-465394fe4307\")>,\n",
       "  <selenium.webdriver.remote.webelement.WebElement (session=\"76b5876c86f759c9c22019262b832ffd\", element=\"4a1f6c04-b131-4e27-8da2-31426437f472\")>,\n",
       "  <selenium.webdriver.remote.webelement.WebElement (session=\"76b5876c86f759c9c22019262b832ffd\", element=\"cf34e7a7-5970-4636-98f5-afbb021f1681\")>,\n",
       "  <selenium.webdriver.remote.webelement.WebElement (session=\"76b5876c86f759c9c22019262b832ffd\", element=\"5ea277d1-02c9-497a-b1b2-71787fea498f\")>,\n",
       "  <selenium.webdriver.remote.webelement.WebElement (session=\"76b5876c86f759c9c22019262b832ffd\", element=\"07ca4040-71c8-4097-851a-0b71d4622018\")>],\n",
       " [<selenium.webdriver.remote.webelement.WebElement (session=\"76b5876c86f759c9c22019262b832ffd\", element=\"ed005f1b-6564-4562-973c-1bdf72af2a04\")>,\n",
       "  <selenium.webdriver.remote.webelement.WebElement (session=\"76b5876c86f759c9c22019262b832ffd\", element=\"dcb5e3fa-db23-4dd8-9362-465394fe4307\")>,\n",
       "  <selenium.webdriver.remote.webelement.WebElement (session=\"76b5876c86f759c9c22019262b832ffd\", element=\"4a1f6c04-b131-4e27-8da2-31426437f472\")>,\n",
       "  <selenium.webdriver.remote.webelement.WebElement (session=\"76b5876c86f759c9c22019262b832ffd\", element=\"cf34e7a7-5970-4636-98f5-afbb021f1681\")>,\n",
       "  <selenium.webdriver.remote.webelement.WebElement (session=\"76b5876c86f759c9c22019262b832ffd\", element=\"5ea277d1-02c9-497a-b1b2-71787fea498f\")>,\n",
       "  <selenium.webdriver.remote.webelement.WebElement (session=\"76b5876c86f759c9c22019262b832ffd\", element=\"d6bedd0e-790b-4fff-98d3-7656129a8b4f\")>,\n",
       "  <selenium.webdriver.remote.webelement.WebElement (session=\"76b5876c86f759c9c22019262b832ffd\", element=\"07ca4040-71c8-4097-851a-0b71d4622018\")>],\n",
       " [<selenium.webdriver.remote.webelement.WebElement (session=\"76b5876c86f759c9c22019262b832ffd\", element=\"ed005f1b-6564-4562-973c-1bdf72af2a04\")>,\n",
       "  <selenium.webdriver.remote.webelement.WebElement (session=\"76b5876c86f759c9c22019262b832ffd\", element=\"dcb5e3fa-db23-4dd8-9362-465394fe4307\")>,\n",
       "  <selenium.webdriver.remote.webelement.WebElement (session=\"76b5876c86f759c9c22019262b832ffd\", element=\"4a1f6c04-b131-4e27-8da2-31426437f472\")>,\n",
       "  <selenium.webdriver.remote.webelement.WebElement (session=\"76b5876c86f759c9c22019262b832ffd\", element=\"cf34e7a7-5970-4636-98f5-afbb021f1681\")>,\n",
       "  <selenium.webdriver.remote.webelement.WebElement (session=\"76b5876c86f759c9c22019262b832ffd\", element=\"5ea277d1-02c9-497a-b1b2-71787fea498f\")>,\n",
       "  <selenium.webdriver.remote.webelement.WebElement (session=\"76b5876c86f759c9c22019262b832ffd\", element=\"d6bedd0e-790b-4fff-98d3-7656129a8b4f\")>,\n",
       "  <selenium.webdriver.remote.webelement.WebElement (session=\"76b5876c86f759c9c22019262b832ffd\", element=\"07ca4040-71c8-4097-851a-0b71d4622018\")>],\n",
       " [<selenium.webdriver.remote.webelement.WebElement (session=\"76b5876c86f759c9c22019262b832ffd\", element=\"ed005f1b-6564-4562-973c-1bdf72af2a04\")>,\n",
       "  <selenium.webdriver.remote.webelement.WebElement (session=\"76b5876c86f759c9c22019262b832ffd\", element=\"dcb5e3fa-db23-4dd8-9362-465394fe4307\")>,\n",
       "  <selenium.webdriver.remote.webelement.WebElement (session=\"76b5876c86f759c9c22019262b832ffd\", element=\"4a1f6c04-b131-4e27-8da2-31426437f472\")>,\n",
       "  <selenium.webdriver.remote.webelement.WebElement (session=\"76b5876c86f759c9c22019262b832ffd\", element=\"cf34e7a7-5970-4636-98f5-afbb021f1681\")>,\n",
       "  <selenium.webdriver.remote.webelement.WebElement (session=\"76b5876c86f759c9c22019262b832ffd\", element=\"5ea277d1-02c9-497a-b1b2-71787fea498f\")>,\n",
       "  <selenium.webdriver.remote.webelement.WebElement (session=\"76b5876c86f759c9c22019262b832ffd\", element=\"07ca4040-71c8-4097-851a-0b71d4622018\")>],\n",
       " [<selenium.webdriver.remote.webelement.WebElement (session=\"76b5876c86f759c9c22019262b832ffd\", element=\"ed005f1b-6564-4562-973c-1bdf72af2a04\")>,\n",
       "  <selenium.webdriver.remote.webelement.WebElement (session=\"76b5876c86f759c9c22019262b832ffd\", element=\"dcb5e3fa-db23-4dd8-9362-465394fe4307\")>,\n",
       "  <selenium.webdriver.remote.webelement.WebElement (session=\"76b5876c86f759c9c22019262b832ffd\", element=\"4a1f6c04-b131-4e27-8da2-31426437f472\")>,\n",
       "  <selenium.webdriver.remote.webelement.WebElement (session=\"76b5876c86f759c9c22019262b832ffd\", element=\"cf34e7a7-5970-4636-98f5-afbb021f1681\")>,\n",
       "  <selenium.webdriver.remote.webelement.WebElement (session=\"76b5876c86f759c9c22019262b832ffd\", element=\"5ea277d1-02c9-497a-b1b2-71787fea498f\")>,\n",
       "  <selenium.webdriver.remote.webelement.WebElement (session=\"76b5876c86f759c9c22019262b832ffd\", element=\"07ca4040-71c8-4097-851a-0b71d4622018\")>],\n",
       " [<selenium.webdriver.remote.webelement.WebElement (session=\"76b5876c86f759c9c22019262b832ffd\", element=\"ed005f1b-6564-4562-973c-1bdf72af2a04\")>,\n",
       "  <selenium.webdriver.remote.webelement.WebElement (session=\"76b5876c86f759c9c22019262b832ffd\", element=\"dcb5e3fa-db23-4dd8-9362-465394fe4307\")>,\n",
       "  <selenium.webdriver.remote.webelement.WebElement (session=\"76b5876c86f759c9c22019262b832ffd\", element=\"4a1f6c04-b131-4e27-8da2-31426437f472\")>,\n",
       "  <selenium.webdriver.remote.webelement.WebElement (session=\"76b5876c86f759c9c22019262b832ffd\", element=\"cf34e7a7-5970-4636-98f5-afbb021f1681\")>,\n",
       "  <selenium.webdriver.remote.webelement.WebElement (session=\"76b5876c86f759c9c22019262b832ffd\", element=\"5ea277d1-02c9-497a-b1b2-71787fea498f\")>,\n",
       "  <selenium.webdriver.remote.webelement.WebElement (session=\"76b5876c86f759c9c22019262b832ffd\", element=\"07ca4040-71c8-4097-851a-0b71d4622018\")>],\n",
       " [<selenium.webdriver.remote.webelement.WebElement (session=\"76b5876c86f759c9c22019262b832ffd\", element=\"ed005f1b-6564-4562-973c-1bdf72af2a04\")>,\n",
       "  <selenium.webdriver.remote.webelement.WebElement (session=\"76b5876c86f759c9c22019262b832ffd\", element=\"dcb5e3fa-db23-4dd8-9362-465394fe4307\")>,\n",
       "  <selenium.webdriver.remote.webelement.WebElement (session=\"76b5876c86f759c9c22019262b832ffd\", element=\"4a1f6c04-b131-4e27-8da2-31426437f472\")>,\n",
       "  <selenium.webdriver.remote.webelement.WebElement (session=\"76b5876c86f759c9c22019262b832ffd\", element=\"cf34e7a7-5970-4636-98f5-afbb021f1681\")>,\n",
       "  <selenium.webdriver.remote.webelement.WebElement (session=\"76b5876c86f759c9c22019262b832ffd\", element=\"5ea277d1-02c9-497a-b1b2-71787fea498f\")>,\n",
       "  <selenium.webdriver.remote.webelement.WebElement (session=\"76b5876c86f759c9c22019262b832ffd\", element=\"ada779f5-65fd-4991-9e2c-9b0e0fca4023\")>,\n",
       "  <selenium.webdriver.remote.webelement.WebElement (session=\"76b5876c86f759c9c22019262b832ffd\", element=\"07ca4040-71c8-4097-851a-0b71d4622018\")>],\n",
       " [<selenium.webdriver.remote.webelement.WebElement (session=\"76b5876c86f759c9c22019262b832ffd\", element=\"ed005f1b-6564-4562-973c-1bdf72af2a04\")>,\n",
       "  <selenium.webdriver.remote.webelement.WebElement (session=\"76b5876c86f759c9c22019262b832ffd\", element=\"dcb5e3fa-db23-4dd8-9362-465394fe4307\")>,\n",
       "  <selenium.webdriver.remote.webelement.WebElement (session=\"76b5876c86f759c9c22019262b832ffd\", element=\"4a1f6c04-b131-4e27-8da2-31426437f472\")>,\n",
       "  <selenium.webdriver.remote.webelement.WebElement (session=\"76b5876c86f759c9c22019262b832ffd\", element=\"cf34e7a7-5970-4636-98f5-afbb021f1681\")>,\n",
       "  <selenium.webdriver.remote.webelement.WebElement (session=\"76b5876c86f759c9c22019262b832ffd\", element=\"5ea277d1-02c9-497a-b1b2-71787fea498f\")>,\n",
       "  <selenium.webdriver.remote.webelement.WebElement (session=\"76b5876c86f759c9c22019262b832ffd\", element=\"07ca4040-71c8-4097-851a-0b71d4622018\")>],\n",
       " [<selenium.webdriver.remote.webelement.WebElement (session=\"76b5876c86f759c9c22019262b832ffd\", element=\"ed005f1b-6564-4562-973c-1bdf72af2a04\")>,\n",
       "  <selenium.webdriver.remote.webelement.WebElement (session=\"76b5876c86f759c9c22019262b832ffd\", element=\"dcb5e3fa-db23-4dd8-9362-465394fe4307\")>,\n",
       "  <selenium.webdriver.remote.webelement.WebElement (session=\"76b5876c86f759c9c22019262b832ffd\", element=\"4a1f6c04-b131-4e27-8da2-31426437f472\")>,\n",
       "  <selenium.webdriver.remote.webelement.WebElement (session=\"76b5876c86f759c9c22019262b832ffd\", element=\"cf34e7a7-5970-4636-98f5-afbb021f1681\")>,\n",
       "  <selenium.webdriver.remote.webelement.WebElement (session=\"76b5876c86f759c9c22019262b832ffd\", element=\"5ea277d1-02c9-497a-b1b2-71787fea498f\")>,\n",
       "  <selenium.webdriver.remote.webelement.WebElement (session=\"76b5876c86f759c9c22019262b832ffd\", element=\"07ca4040-71c8-4097-851a-0b71d4622018\")>],\n",
       " [<selenium.webdriver.remote.webelement.WebElement (session=\"76b5876c86f759c9c22019262b832ffd\", element=\"ed005f1b-6564-4562-973c-1bdf72af2a04\")>,\n",
       "  <selenium.webdriver.remote.webelement.WebElement (session=\"76b5876c86f759c9c22019262b832ffd\", element=\"dcb5e3fa-db23-4dd8-9362-465394fe4307\")>,\n",
       "  <selenium.webdriver.remote.webelement.WebElement (session=\"76b5876c86f759c9c22019262b832ffd\", element=\"4a1f6c04-b131-4e27-8da2-31426437f472\")>,\n",
       "  <selenium.webdriver.remote.webelement.WebElement (session=\"76b5876c86f759c9c22019262b832ffd\", element=\"cf34e7a7-5970-4636-98f5-afbb021f1681\")>,\n",
       "  <selenium.webdriver.remote.webelement.WebElement (session=\"76b5876c86f759c9c22019262b832ffd\", element=\"5ea277d1-02c9-497a-b1b2-71787fea498f\")>,\n",
       "  <selenium.webdriver.remote.webelement.WebElement (session=\"76b5876c86f759c9c22019262b832ffd\", element=\"ad841a74-c343-40e7-b9fe-08d1a83c670f\")>,\n",
       "  <selenium.webdriver.remote.webelement.WebElement (session=\"76b5876c86f759c9c22019262b832ffd\", element=\"07ca4040-71c8-4097-851a-0b71d4622018\")>]]"
      ]
     },
     "execution_count": 26,
     "metadata": {},
     "output_type": "execute_result"
    }
   ],
   "source": [
    "more_links"
   ]
  },
  {
   "cell_type": "code",
   "execution_count": 27,
   "metadata": {},
   "outputs": [],
   "source": [
    "time.sleep(10)"
   ]
  },
  {
   "cell_type": "code",
   "execution_count": 28,
   "metadata": {
    "scrolled": true
   },
   "outputs": [
    {
     "name": "stdout",
     "output_type": "stream",
     "text": [
      "National Museum of Korea\n",
      "Seoul Museum of Art\n",
      "Bukchon Hanok Village\n",
      "Namsan Park\n",
      "Gyeongbokgung Palace\n",
      "Cheonggyecheon\n",
      "Sinsa-dong\n",
      "Ewha Womans University\n",
      "Nanshan Cable Car\n",
      "Cheong Wa Dae\n",
      "Popular Attractions in Seoul\n",
      "Recommended Restaurants in Seoul\n",
      "Popular Hotels in Seoul\n",
      "Popular Destinations\n",
      "Related Links\n",
      "About\n",
      "Other Services\n",
      "Contact Us\n",
      "Myeong Dong\n",
      "N Seoul Tower\n",
      "Itaewon\n",
      "Dongdaemun Design Plaza\n",
      "Gwanghwamun Square\n",
      "Gwangjang Market\n",
      "Deoksugung Palace\n",
      "63 square\n",
      "Ihwa Mural Village\n",
      "Dongdaemun\n",
      "Popular Attractions in Seoul\n",
      "Recommended Restaurants in Seoul\n",
      "Popular Hotels in Seoul\n",
      "Popular Destinations\n",
      "Related Links\n",
      "About\n",
      "Other Services\n",
      "Contact Us\n",
      "Insadong\n",
      "Samcheong-dong\n",
      "Alive 4D Art Museum (Insa-dong Main Branch)\n",
      "COEX Aquarium\n",
      "Hongik University\n",
      "National Palace Museum of Korea\n",
      "Youeido Han River Park\n",
      "War Memorial of Korea\n",
      "Seoul City Hall\n",
      "Changdeokgung Palace\n",
      "Popular Attractions in Seoul\n",
      "Recommended Restaurants in Seoul\n",
      "Popular Hotels in Seoul\n",
      "Popular Destinations\n",
      "Related Links\n",
      "About\n",
      "Other Services\n",
      "Contact Us\n",
      "National Folk Museum\n",
      "Leeum Samsung Museum of Art\n",
      "Alive 4D Art Museum (Insa-dong Main Branch)\n",
      "Gyeonghuigung Palace\n",
      "Korea House\n",
      "Love Museum\n",
      "Haneul Park\n",
      "Cheongdam Dong\n",
      "Seoul Daehangno\n",
      "Myeong-dong Street\n",
      "Popular Attractions in Seoul\n",
      "Recommended Restaurants in Seoul\n",
      "Popular Hotels in Seoul\n",
      "Popular Destinations\n",
      "Related Links\n",
      "About\n",
      "Other Services\n",
      "Contact Us\n",
      "S.M.Entertainment\n",
      "Bank of Korea Money Museum\n",
      "Bongeunsa Temple\n",
      "Children's Grand Park\n",
      "Yeouido\n",
      "Sinchon-dong\n",
      "SMTOWN\n",
      "Poopoo Land\n",
      "Naksan Park\n",
      "Myeongdong Catholic Cathedral\n",
      "Popular Attractions in Seoul\n",
      "Recommended Restaurants in Seoul\n",
      "Popular Hotels in Seoul\n",
      "Popular Destinations\n",
      "Related Links\n",
      "About\n",
      "Other Services\n",
      "Contact Us\n",
      "National Museum of Korea\n",
      "Seoul Museum of Art\n",
      "Waryongmyo Shrine\n",
      "Sejong Lake Park\n",
      "Ganghwa Anglican Cathedral\n",
      "Street Museum\n",
      "Yeongok Beach\n",
      "Okin Church\n",
      "Mallipo Beach\n",
      "Hongreung Arboretum\n",
      "Popular Attractions in Seoul\n",
      "Recommended Restaurants in Seoul\n",
      "Popular Hotels in Seoul\n",
      "Popular Destinations\n",
      "Related Links\n",
      "About\n",
      "Other Services\n",
      "Contact Us\n"
     ]
    }
   ],
   "source": [
    "site=[]\n",
    "\n",
    "for link in more_links:  \n",
    "    try:\n",
    "        link.click()   \n",
    "        reviews = browser.find_elements_by_css_selector('h3')\n",
    "\n",
    "        for review in reviews:\n",
    "            print(review.text)            \n",
    "            for review in reviews:\n",
    "                site.append(review.text)\n",
    "    \n",
    "    except:              \n",
    "        pass           "
   ]
  },
  {
   "cell_type": "code",
   "execution_count": null,
   "metadata": {},
   "outputs": [],
   "source": []
  },
  {
   "cell_type": "code",
   "execution_count": 29,
   "metadata": {},
   "outputs": [],
   "source": [
    "site=[]\n",
    "\n",
    "for link in more_links:  \n",
    "    try:\n",
    "        link.click()   \n",
    "\n",
    "        reviews = browser.find_elements_by_css_selector('href')\n",
    "\n",
    "        for review in reviews:\n",
    "            print(review.text)            \n",
    "            for review in reviews:\n",
    "                site.append(review.text)\n",
    "    \n",
    "    except:              \n",
    "        pass           "
   ]
  },
  {
   "cell_type": "code",
   "execution_count": 30,
   "metadata": {},
   "outputs": [
    {
     "data": {
      "text/plain": [
       "[]"
      ]
     },
     "execution_count": 30,
     "metadata": {},
     "output_type": "execute_result"
    }
   ],
   "source": [
    "site"
   ]
  },
  {
   "cell_type": "code",
   "execution_count": null,
   "metadata": {},
   "outputs": [],
   "source": []
  },
  {
   "cell_type": "code",
   "execution_count": null,
   "metadata": {
    "scrolled": true
   },
   "outputs": [],
   "source": []
  },
  {
   "cell_type": "code",
   "execution_count": null,
   "metadata": {},
   "outputs": [],
   "source": []
  },
  {
   "cell_type": "code",
   "execution_count": null,
   "metadata": {},
   "outputs": [],
   "source": []
  },
  {
   "cell_type": "code",
   "execution_count": null,
   "metadata": {},
   "outputs": [],
   "source": []
  },
  {
   "cell_type": "code",
   "execution_count": null,
   "metadata": {},
   "outputs": [],
   "source": []
  },
  {
   "cell_type": "code",
   "execution_count": 31,
   "metadata": {},
   "outputs": [],
   "source": [
    "root = lxml.html.fromstring(res.text)"
   ]
  },
  {
   "cell_type": "code",
   "execution_count": 32,
   "metadata": {},
   "outputs": [],
   "source": [
    "browser = webdriver.Chrome('C:/Users/TJ/Downloads/chromedriver_win32 (2)/chromedriver.exe')"
   ]
  },
  {
   "cell_type": "code",
   "execution_count": 33,
   "metadata": {},
   "outputs": [],
   "source": [
    "url = 'https://www.trip.com/travel-guide/seoul-234/tourist-attractions/'\n",
    "res = requests.get(url)"
   ]
  },
  {
   "cell_type": "code",
   "execution_count": 34,
   "metadata": {},
   "outputs": [
    {
     "data": {
      "text/plain": [
       "[]"
      ]
     },
     "execution_count": 34,
     "metadata": {},
     "output_type": "execute_result"
    }
   ],
   "source": [
    "sites = root.cssselect('a')\n",
    "sites = root.cssselect('href')\n",
    "\n",
    "urls = []\n",
    "\n",
    "for site in sites:\n",
    "    open.append(link)\n",
    "\n",
    "urls"
   ]
  },
  {
   "cell_type": "code",
   "execution_count": null,
   "metadata": {},
   "outputs": [],
   "source": []
  },
  {
   "cell_type": "code",
   "execution_count": null,
   "metadata": {},
   "outputs": [],
   "source": []
  },
  {
   "cell_type": "code",
   "execution_count": null,
   "metadata": {},
   "outputs": [],
   "source": []
  },
  {
   "cell_type": "code",
   "execution_count": null,
   "metadata": {},
   "outputs": [],
   "source": []
  },
  {
   "cell_type": "code",
   "execution_count": null,
   "metadata": {},
   "outputs": [],
   "source": []
  },
  {
   "cell_type": "code",
   "execution_count": 35,
   "metadata": {},
   "outputs": [],
   "source": [
    "df = pd.DataFrame({'score': score, 'text': text})"
   ]
  },
  {
   "cell_type": "code",
   "execution_count": 36,
   "metadata": {
    "scrolled": true
   },
   "outputs": [
    {
     "data": {
      "text/html": [
       "<div>\n",
       "<style scoped>\n",
       "    .dataframe tbody tr th:only-of-type {\n",
       "        vertical-align: middle;\n",
       "    }\n",
       "\n",
       "    .dataframe tbody tr th {\n",
       "        vertical-align: top;\n",
       "    }\n",
       "\n",
       "    .dataframe thead th {\n",
       "        text-align: right;\n",
       "    }\n",
       "</style>\n",
       "<table border=\"1\" class=\"dataframe\">\n",
       "  <thead>\n",
       "    <tr style=\"text-align: right;\">\n",
       "      <th></th>\n",
       "      <th>score</th>\n",
       "      <th>text</th>\n",
       "    </tr>\n",
       "  </thead>\n",
       "  <tbody>\n",
       "    <tr>\n",
       "      <th>0</th>\n",
       "      <td>5.0</td>\n",
       "      <td>Myeongdong is a lively place to visit for the ...</td>\n",
       "    </tr>\n",
       "    <tr>\n",
       "      <th>1</th>\n",
       "      <td>5.0</td>\n",
       "      <td>it’s a shopping area. lots of restaurants and ...</td>\n",
       "    </tr>\n",
       "    <tr>\n",
       "      <th>2</th>\n",
       "      <td>5.0</td>\n",
       "      <td>Great place to stroll around, lots of street i...</td>\n",
       "    </tr>\n",
       "    <tr>\n",
       "      <th>3</th>\n",
       "      <td>5.0</td>\n",
       "      <td>This place was so great, I visited on 3 separa...</td>\n",
       "    </tr>\n",
       "    <tr>\n",
       "      <th>4</th>\n",
       "      <td>4.0</td>\n",
       "      <td>This is great to see at night when eveyrhing i...</td>\n",
       "    </tr>\n",
       "    <tr>\n",
       "      <th>5</th>\n",
       "      <td>5.0</td>\n",
       "      <td>Me encanto para ir de compras encuentras lo qu...</td>\n",
       "    </tr>\n",
       "    <tr>\n",
       "      <th>6</th>\n",
       "      <td>5.0</td>\n",
       "      <td>you should not miss out on the Street food and...</td>\n",
       "    </tr>\n",
       "    <tr>\n",
       "      <th>7</th>\n",
       "      <td>4.0</td>\n",
       "      <td>Myeong Dong is a commercial south of the City ...</td>\n",
       "    </tr>\n",
       "    <tr>\n",
       "      <th>8</th>\n",
       "      <td>5.0</td>\n",
       "      <td>This is the shooting site of RUNNING MAN. I li...</td>\n",
       "    </tr>\n",
       "    <tr>\n",
       "      <th>9</th>\n",
       "      <td>5.0</td>\n",
       "      <td>i feel like heaven in thiz place because of th...</td>\n",
       "    </tr>\n",
       "  </tbody>\n",
       "</table>\n",
       "</div>"
      ],
      "text/plain": [
       "  score                                               text\n",
       "0   5.0  Myeongdong is a lively place to visit for the ...\n",
       "1   5.0  it’s a shopping area. lots of restaurants and ...\n",
       "2   5.0  Great place to stroll around, lots of street i...\n",
       "3   5.0  This place was so great, I visited on 3 separa...\n",
       "4   4.0  This is great to see at night when eveyrhing i...\n",
       "5   5.0  Me encanto para ir de compras encuentras lo qu...\n",
       "6   5.0  you should not miss out on the Street food and...\n",
       "7   4.0  Myeong Dong is a commercial south of the City ...\n",
       "8   5.0  This is the shooting site of RUNNING MAN. I li...\n",
       "9   5.0  i feel like heaven in thiz place because of th..."
      ]
     },
     "execution_count": 36,
     "metadata": {},
     "output_type": "execute_result"
    }
   ],
   "source": [
    "df"
   ]
  },
  {
   "cell_type": "code",
   "execution_count": 37,
   "metadata": {},
   "outputs": [],
   "source": [
    "df.to_excel('명동1페이지.xlsx')"
   ]
  },
  {
   "cell_type": "code",
   "execution_count": null,
   "metadata": {},
   "outputs": [],
   "source": []
  }
 ],
 "metadata": {
  "kernelspec": {
   "display_name": "Python 3",
   "language": "python",
   "name": "python3"
  },
  "language_info": {
   "codemirror_mode": {
    "name": "ipython",
    "version": 3
   },
   "file_extension": ".py",
   "mimetype": "text/x-python",
   "name": "python",
   "nbconvert_exporter": "python",
   "pygments_lexer": "ipython3",
   "version": "3.5.3"
  }
 },
 "nbformat": 4,
 "nbformat_minor": 4
}
