{
 "cells": [
  {
   "cell_type": "code",
   "execution_count": 1,
   "metadata": {},
   "outputs": [],
   "source": [
    "# 후기 스크래핑"
   ]
  },
  {
   "cell_type": "code",
   "execution_count": 2,
   "metadata": {},
   "outputs": [
    {
     "name": "stdout",
     "output_type": "stream",
     "text": [
      "Requirement already satisfied: cssselect in c:\\users\\parkminwoo\\appdata\\local\\programs\\python\\python35\\lib\\site-packages (1.1.0)\n"
     ]
    }
   ],
   "source": [
    "!pip install cssselect"
   ]
  },
  {
   "cell_type": "code",
   "execution_count": 3,
   "metadata": {},
   "outputs": [
    {
     "name": "stdout",
     "output_type": "stream",
     "text": [
      "Requirement already satisfied: selenium in c:\\users\\parkminwoo\\appdata\\local\\programs\\python\\python35\\lib\\site-packages (3.141.0)\n",
      "Requirement already satisfied: urllib3 in c:\\users\\parkminwoo\\appdata\\local\\programs\\python\\python35\\lib\\site-packages (from selenium) (1.25.9)\n"
     ]
    }
   ],
   "source": [
    "!pip install selenium"
   ]
  },
  {
   "cell_type": "code",
   "execution_count": 4,
   "metadata": {},
   "outputs": [
    {
     "name": "stdout",
     "output_type": "stream",
     "text": [
      "Requirement already satisfied: lxml in c:\\users\\parkminwoo\\appdata\\local\\programs\\python\\python35\\lib\\site-packages (4.5.1)\n"
     ]
    }
   ],
   "source": [
    "!pip install lxml"
   ]
  },
  {
   "cell_type": "code",
   "execution_count": 5,
   "metadata": {},
   "outputs": [],
   "source": [
    "import urllib.parse\n",
    "import time\n",
    "import requests\n",
    "import lxml.html\n",
    "import pandas as pd\n",
    "from selenium.webdriver import Chrome"
   ]
  },
  {
   "cell_type": "markdown",
   "metadata": {},
   "source": [
    "# 페이지 입력"
   ]
  },
  {
   "cell_type": "markdown",
   "metadata": {},
   "source": [
    "url = 'https://www.trip.com/travel-guide/seoul/myeong-dong-10524255/'\n",
    "res = requests.get(url)"
   ]
  },
  {
   "cell_type": "markdown",
   "metadata": {},
   "source": [
    "# 리뷰 크롤링"
   ]
  },
  {
   "cell_type": "markdown",
   "metadata": {},
   "source": [
    "root = lxml.html.fromstring(res.text)\n",
    "\n",
    "root.cssselect('a')\n",
    "\n",
    "root.cssselect('em.cr')\n",
    "\n",
    "links = root.cssselect('p.mt10')\n",
    "\n",
    "links\n",
    "\n",
    "text = []\n",
    "for link in links:\n",
    "    text.append(link.text_content())\n",
    "\n",
    "text"
   ]
  },
  {
   "cell_type": "markdown",
   "metadata": {},
   "source": [
    "# 별점 크롤링"
   ]
  },
  {
   "cell_type": "markdown",
   "metadata": {},
   "source": [
    "root = lxml.html.fromstring(res.text)\n",
    "\n",
    "root.cssselect('a')\n",
    "\n",
    "root.cssselect('em.cr')\n",
    "\n",
    "links = root.cssselect('span.comment_score')\n",
    "\n",
    "links\n",
    "\n",
    "score = []\n",
    "for link in links:\n",
    "    score.append(link.text_content())\n",
    "\n",
    "score"
   ]
  },
  {
   "cell_type": "markdown",
   "metadata": {},
   "source": [
    "root"
   ]
  },
  {
   "cell_type": "markdown",
   "metadata": {},
   "source": []
  },
  {
   "cell_type": "markdown",
   "metadata": {},
   "source": []
  },
  {
   "cell_type": "markdown",
   "metadata": {},
   "source": []
  },
  {
   "cell_type": "markdown",
   "metadata": {},
   "source": []
  },
  {
   "cell_type": "markdown",
   "metadata": {},
   "source": [
    "df = pd.DataFrame({'score': score, 'text': text})"
   ]
  },
  {
   "cell_type": "markdown",
   "metadata": {},
   "source": [
    "df.head()"
   ]
  },
  {
   "cell_type": "markdown",
   "metadata": {},
   "source": [
    "df.to_excel('명동1페이지.xlsx')"
   ]
  },
  {
   "cell_type": "markdown",
   "metadata": {},
   "source": [
    "# 셀레늄"
   ]
  },
  {
   "cell_type": "code",
   "execution_count": 6,
   "metadata": {},
   "outputs": [],
   "source": [
    "from selenium import webdriver"
   ]
  },
  {
   "cell_type": "code",
   "execution_count": 7,
   "metadata": {},
   "outputs": [],
   "source": [
    "#brower=Chrome()"
   ]
  },
  {
   "cell_type": "code",
   "execution_count": 8,
   "metadata": {},
   "outputs": [],
   "source": [
    "browser = webdriver.Chrome('C:/Users/parkminwoo/Desktop/R/chromedriver_win32/chromedriver.exe')"
   ]
  },
  {
   "cell_type": "code",
   "execution_count": 9,
   "metadata": {},
   "outputs": [],
   "source": [
    "url = 'https://www.trip.com/travel-guide/seoul/myeong-dong-10524255/'"
   ]
  },
  {
   "cell_type": "code",
   "execution_count": 10,
   "metadata": {},
   "outputs": [],
   "source": [
    "browser.get(url)"
   ]
  },
  {
   "cell_type": "markdown",
   "metadata": {},
   "source": [
    "## 링크 찾기"
   ]
  },
  {
   "cell_type": "code",
   "execution_count": 11,
   "metadata": {},
   "outputs": [],
   "source": [
    "active = browser.find_elements_by_css_selector('li.number')"
   ]
  },
  {
   "cell_type": "code",
   "execution_count": 12,
   "metadata": {},
   "outputs": [],
   "source": [
    "for link in active:  \n",
    "    try:\n",
    "        link.click()   \n",
    "        active.append(browser.find_elements_by_css_selector('li.number'))\n",
    "    except :\n",
    "        pass"
   ]
  },
  {
   "cell_type": "code",
   "execution_count": 13,
   "metadata": {},
   "outputs": [],
   "source": [
    "for link in active:  \n",
    "    try:\n",
    "        link.click()   \n",
    "        active.append(browser.find_elements_by_css_selector('li.number'))\n",
    "    except :\n",
    "        pass"
   ]
  },
  {
   "cell_type": "code",
   "execution_count": 14,
   "metadata": {},
   "outputs": [],
   "source": [
    "for link in active:  \n",
    "    try:\n",
    "        link.click()   \n",
    "        active.append(browser.find_elements_by_css_selector('li.number'))\n",
    "    except :\n",
    "        pass"
   ]
  },
  {
   "cell_type": "code",
   "execution_count": 15,
   "metadata": {},
   "outputs": [],
   "source": [
    "for link in active:  \n",
    "    try:\n",
    "        link.click()   \n",
    "        active.append(browser.find_elements_by_css_selector('li.number'))\n",
    "    except :\n",
    "        pass"
   ]
  },
  {
   "cell_type": "code",
   "execution_count": 16,
   "metadata": {},
   "outputs": [],
   "source": [
    "more_links=active"
   ]
  },
  {
   "cell_type": "code",
   "execution_count": 17,
   "metadata": {
    "scrolled": false
   },
   "outputs": [
    {
     "data": {
      "text/plain": [
       "[<selenium.webdriver.remote.webelement.WebElement (session=\"3e913ffe83c3d90a4f22c3669fa55b77\", element=\"6dbd22cf-b75a-4637-86cc-7bd5e6d24f7b\")>,\n",
       " <selenium.webdriver.remote.webelement.WebElement (session=\"3e913ffe83c3d90a4f22c3669fa55b77\", element=\"cef4c7c1-3e7f-4ffa-94b7-9639643413e6\")>,\n",
       " <selenium.webdriver.remote.webelement.WebElement (session=\"3e913ffe83c3d90a4f22c3669fa55b77\", element=\"6b071440-13e6-4532-b157-ff8662ba7aa8\")>,\n",
       " <selenium.webdriver.remote.webelement.WebElement (session=\"3e913ffe83c3d90a4f22c3669fa55b77\", element=\"9edb6bf8-17d4-49d1-b0a5-ef15c290c7cf\")>,\n",
       " <selenium.webdriver.remote.webelement.WebElement (session=\"3e913ffe83c3d90a4f22c3669fa55b77\", element=\"c956c8a2-e553-430d-b056-3fd6fbdc53d1\")>,\n",
       " [<selenium.webdriver.remote.webelement.WebElement (session=\"3e913ffe83c3d90a4f22c3669fa55b77\", element=\"6dbd22cf-b75a-4637-86cc-7bd5e6d24f7b\")>,\n",
       "  <selenium.webdriver.remote.webelement.WebElement (session=\"3e913ffe83c3d90a4f22c3669fa55b77\", element=\"cef4c7c1-3e7f-4ffa-94b7-9639643413e6\")>,\n",
       "  <selenium.webdriver.remote.webelement.WebElement (session=\"3e913ffe83c3d90a4f22c3669fa55b77\", element=\"6b071440-13e6-4532-b157-ff8662ba7aa8\")>,\n",
       "  <selenium.webdriver.remote.webelement.WebElement (session=\"3e913ffe83c3d90a4f22c3669fa55b77\", element=\"9edb6bf8-17d4-49d1-b0a5-ef15c290c7cf\")>,\n",
       "  <selenium.webdriver.remote.webelement.WebElement (session=\"3e913ffe83c3d90a4f22c3669fa55b77\", element=\"c956c8a2-e553-430d-b056-3fd6fbdc53d1\")>],\n",
       " [<selenium.webdriver.remote.webelement.WebElement (session=\"3e913ffe83c3d90a4f22c3669fa55b77\", element=\"6dbd22cf-b75a-4637-86cc-7bd5e6d24f7b\")>,\n",
       "  <selenium.webdriver.remote.webelement.WebElement (session=\"3e913ffe83c3d90a4f22c3669fa55b77\", element=\"cef4c7c1-3e7f-4ffa-94b7-9639643413e6\")>,\n",
       "  <selenium.webdriver.remote.webelement.WebElement (session=\"3e913ffe83c3d90a4f22c3669fa55b77\", element=\"6b071440-13e6-4532-b157-ff8662ba7aa8\")>,\n",
       "  <selenium.webdriver.remote.webelement.WebElement (session=\"3e913ffe83c3d90a4f22c3669fa55b77\", element=\"9edb6bf8-17d4-49d1-b0a5-ef15c290c7cf\")>,\n",
       "  <selenium.webdriver.remote.webelement.WebElement (session=\"3e913ffe83c3d90a4f22c3669fa55b77\", element=\"c956c8a2-e553-430d-b056-3fd6fbdc53d1\")>],\n",
       " [<selenium.webdriver.remote.webelement.WebElement (session=\"3e913ffe83c3d90a4f22c3669fa55b77\", element=\"6dbd22cf-b75a-4637-86cc-7bd5e6d24f7b\")>,\n",
       "  <selenium.webdriver.remote.webelement.WebElement (session=\"3e913ffe83c3d90a4f22c3669fa55b77\", element=\"cef4c7c1-3e7f-4ffa-94b7-9639643413e6\")>,\n",
       "  <selenium.webdriver.remote.webelement.WebElement (session=\"3e913ffe83c3d90a4f22c3669fa55b77\", element=\"6b071440-13e6-4532-b157-ff8662ba7aa8\")>,\n",
       "  <selenium.webdriver.remote.webelement.WebElement (session=\"3e913ffe83c3d90a4f22c3669fa55b77\", element=\"9edb6bf8-17d4-49d1-b0a5-ef15c290c7cf\")>,\n",
       "  <selenium.webdriver.remote.webelement.WebElement (session=\"3e913ffe83c3d90a4f22c3669fa55b77\", element=\"c956c8a2-e553-430d-b056-3fd6fbdc53d1\")>],\n",
       " [<selenium.webdriver.remote.webelement.WebElement (session=\"3e913ffe83c3d90a4f22c3669fa55b77\", element=\"6dbd22cf-b75a-4637-86cc-7bd5e6d24f7b\")>,\n",
       "  <selenium.webdriver.remote.webelement.WebElement (session=\"3e913ffe83c3d90a4f22c3669fa55b77\", element=\"cef4c7c1-3e7f-4ffa-94b7-9639643413e6\")>,\n",
       "  <selenium.webdriver.remote.webelement.WebElement (session=\"3e913ffe83c3d90a4f22c3669fa55b77\", element=\"6b071440-13e6-4532-b157-ff8662ba7aa8\")>,\n",
       "  <selenium.webdriver.remote.webelement.WebElement (session=\"3e913ffe83c3d90a4f22c3669fa55b77\", element=\"9edb6bf8-17d4-49d1-b0a5-ef15c290c7cf\")>,\n",
       "  <selenium.webdriver.remote.webelement.WebElement (session=\"3e913ffe83c3d90a4f22c3669fa55b77\", element=\"c956c8a2-e553-430d-b056-3fd6fbdc53d1\")>],\n",
       " [<selenium.webdriver.remote.webelement.WebElement (session=\"3e913ffe83c3d90a4f22c3669fa55b77\", element=\"6dbd22cf-b75a-4637-86cc-7bd5e6d24f7b\")>,\n",
       "  <selenium.webdriver.remote.webelement.WebElement (session=\"3e913ffe83c3d90a4f22c3669fa55b77\", element=\"cef4c7c1-3e7f-4ffa-94b7-9639643413e6\")>,\n",
       "  <selenium.webdriver.remote.webelement.WebElement (session=\"3e913ffe83c3d90a4f22c3669fa55b77\", element=\"6b071440-13e6-4532-b157-ff8662ba7aa8\")>,\n",
       "  <selenium.webdriver.remote.webelement.WebElement (session=\"3e913ffe83c3d90a4f22c3669fa55b77\", element=\"9edb6bf8-17d4-49d1-b0a5-ef15c290c7cf\")>,\n",
       "  <selenium.webdriver.remote.webelement.WebElement (session=\"3e913ffe83c3d90a4f22c3669fa55b77\", element=\"c956c8a2-e553-430d-b056-3fd6fbdc53d1\")>],\n",
       " [<selenium.webdriver.remote.webelement.WebElement (session=\"3e913ffe83c3d90a4f22c3669fa55b77\", element=\"6dbd22cf-b75a-4637-86cc-7bd5e6d24f7b\")>,\n",
       "  <selenium.webdriver.remote.webelement.WebElement (session=\"3e913ffe83c3d90a4f22c3669fa55b77\", element=\"cef4c7c1-3e7f-4ffa-94b7-9639643413e6\")>,\n",
       "  <selenium.webdriver.remote.webelement.WebElement (session=\"3e913ffe83c3d90a4f22c3669fa55b77\", element=\"6b071440-13e6-4532-b157-ff8662ba7aa8\")>,\n",
       "  <selenium.webdriver.remote.webelement.WebElement (session=\"3e913ffe83c3d90a4f22c3669fa55b77\", element=\"9edb6bf8-17d4-49d1-b0a5-ef15c290c7cf\")>,\n",
       "  <selenium.webdriver.remote.webelement.WebElement (session=\"3e913ffe83c3d90a4f22c3669fa55b77\", element=\"c956c8a2-e553-430d-b056-3fd6fbdc53d1\")>],\n",
       " [<selenium.webdriver.remote.webelement.WebElement (session=\"3e913ffe83c3d90a4f22c3669fa55b77\", element=\"6dbd22cf-b75a-4637-86cc-7bd5e6d24f7b\")>,\n",
       "  <selenium.webdriver.remote.webelement.WebElement (session=\"3e913ffe83c3d90a4f22c3669fa55b77\", element=\"cef4c7c1-3e7f-4ffa-94b7-9639643413e6\")>,\n",
       "  <selenium.webdriver.remote.webelement.WebElement (session=\"3e913ffe83c3d90a4f22c3669fa55b77\", element=\"6b071440-13e6-4532-b157-ff8662ba7aa8\")>,\n",
       "  <selenium.webdriver.remote.webelement.WebElement (session=\"3e913ffe83c3d90a4f22c3669fa55b77\", element=\"9edb6bf8-17d4-49d1-b0a5-ef15c290c7cf\")>,\n",
       "  <selenium.webdriver.remote.webelement.WebElement (session=\"3e913ffe83c3d90a4f22c3669fa55b77\", element=\"c956c8a2-e553-430d-b056-3fd6fbdc53d1\")>],\n",
       " [<selenium.webdriver.remote.webelement.WebElement (session=\"3e913ffe83c3d90a4f22c3669fa55b77\", element=\"6dbd22cf-b75a-4637-86cc-7bd5e6d24f7b\")>,\n",
       "  <selenium.webdriver.remote.webelement.WebElement (session=\"3e913ffe83c3d90a4f22c3669fa55b77\", element=\"cef4c7c1-3e7f-4ffa-94b7-9639643413e6\")>,\n",
       "  <selenium.webdriver.remote.webelement.WebElement (session=\"3e913ffe83c3d90a4f22c3669fa55b77\", element=\"6b071440-13e6-4532-b157-ff8662ba7aa8\")>,\n",
       "  <selenium.webdriver.remote.webelement.WebElement (session=\"3e913ffe83c3d90a4f22c3669fa55b77\", element=\"9edb6bf8-17d4-49d1-b0a5-ef15c290c7cf\")>,\n",
       "  <selenium.webdriver.remote.webelement.WebElement (session=\"3e913ffe83c3d90a4f22c3669fa55b77\", element=\"c956c8a2-e553-430d-b056-3fd6fbdc53d1\")>],\n",
       " [<selenium.webdriver.remote.webelement.WebElement (session=\"3e913ffe83c3d90a4f22c3669fa55b77\", element=\"6dbd22cf-b75a-4637-86cc-7bd5e6d24f7b\")>,\n",
       "  <selenium.webdriver.remote.webelement.WebElement (session=\"3e913ffe83c3d90a4f22c3669fa55b77\", element=\"cef4c7c1-3e7f-4ffa-94b7-9639643413e6\")>,\n",
       "  <selenium.webdriver.remote.webelement.WebElement (session=\"3e913ffe83c3d90a4f22c3669fa55b77\", element=\"6b071440-13e6-4532-b157-ff8662ba7aa8\")>,\n",
       "  <selenium.webdriver.remote.webelement.WebElement (session=\"3e913ffe83c3d90a4f22c3669fa55b77\", element=\"9edb6bf8-17d4-49d1-b0a5-ef15c290c7cf\")>,\n",
       "  <selenium.webdriver.remote.webelement.WebElement (session=\"3e913ffe83c3d90a4f22c3669fa55b77\", element=\"c956c8a2-e553-430d-b056-3fd6fbdc53d1\")>],\n",
       " [<selenium.webdriver.remote.webelement.WebElement (session=\"3e913ffe83c3d90a4f22c3669fa55b77\", element=\"6dbd22cf-b75a-4637-86cc-7bd5e6d24f7b\")>,\n",
       "  <selenium.webdriver.remote.webelement.WebElement (session=\"3e913ffe83c3d90a4f22c3669fa55b77\", element=\"cef4c7c1-3e7f-4ffa-94b7-9639643413e6\")>,\n",
       "  <selenium.webdriver.remote.webelement.WebElement (session=\"3e913ffe83c3d90a4f22c3669fa55b77\", element=\"6b071440-13e6-4532-b157-ff8662ba7aa8\")>,\n",
       "  <selenium.webdriver.remote.webelement.WebElement (session=\"3e913ffe83c3d90a4f22c3669fa55b77\", element=\"9edb6bf8-17d4-49d1-b0a5-ef15c290c7cf\")>,\n",
       "  <selenium.webdriver.remote.webelement.WebElement (session=\"3e913ffe83c3d90a4f22c3669fa55b77\", element=\"c956c8a2-e553-430d-b056-3fd6fbdc53d1\")>],\n",
       " [<selenium.webdriver.remote.webelement.WebElement (session=\"3e913ffe83c3d90a4f22c3669fa55b77\", element=\"6dbd22cf-b75a-4637-86cc-7bd5e6d24f7b\")>,\n",
       "  <selenium.webdriver.remote.webelement.WebElement (session=\"3e913ffe83c3d90a4f22c3669fa55b77\", element=\"cef4c7c1-3e7f-4ffa-94b7-9639643413e6\")>,\n",
       "  <selenium.webdriver.remote.webelement.WebElement (session=\"3e913ffe83c3d90a4f22c3669fa55b77\", element=\"6b071440-13e6-4532-b157-ff8662ba7aa8\")>,\n",
       "  <selenium.webdriver.remote.webelement.WebElement (session=\"3e913ffe83c3d90a4f22c3669fa55b77\", element=\"9edb6bf8-17d4-49d1-b0a5-ef15c290c7cf\")>,\n",
       "  <selenium.webdriver.remote.webelement.WebElement (session=\"3e913ffe83c3d90a4f22c3669fa55b77\", element=\"c956c8a2-e553-430d-b056-3fd6fbdc53d1\")>]]"
      ]
     },
     "execution_count": 17,
     "metadata": {},
     "output_type": "execute_result"
    }
   ],
   "source": [
    "more_links"
   ]
  },
  {
   "cell_type": "code",
   "execution_count": 18,
   "metadata": {},
   "outputs": [],
   "source": [
    "time.sleep(10)"
   ]
  },
  {
   "cell_type": "code",
   "execution_count": 19,
   "metadata": {
    "scrolled": true
   },
   "outputs": [
    {
     "name": "stdout",
     "output_type": "stream",
     "text": [
      "5.0\n",
      "5.0\n",
      "5.0\n",
      "5.0\n",
      "5.0\n",
      "4.0\n",
      "4.0\n",
      "5.0\n",
      "5.0\n",
      "5.0\n",
      "5.0\n",
      "5.0\n",
      "5.0\n",
      "5.0\n",
      "4.0\n",
      "5.0\n",
      "5.0\n",
      "5.0\n",
      "5.0\n",
      "5.0\n",
      "4.0\n",
      "5.0\n",
      "5.0\n",
      "5.0\n",
      "5.0\n",
      "5.0\n",
      "5.0\n",
      "5.0\n",
      "5.0\n",
      "5.0\n",
      "5.0\n",
      "5.0\n",
      "5.0\n",
      "5.0\n",
      "5.0\n",
      "5.0\n",
      "5.0\n",
      "5.0\n",
      "5.0\n",
      "4.0\n",
      "5.0\n",
      "5.0\n",
      "5.0\n",
      "5.0\n",
      "5.0\n",
      "5.0\n",
      "5.0\n",
      "5.0\n",
      "5.0\n",
      "5.0\n"
     ]
    }
   ],
   "source": [
    "score=[]\n",
    "\n",
    "for link in more_links:  \n",
    "    try:\n",
    "        link.click()   \n",
    "        reviews = browser.find_elements_by_css_selector('a')\n",
    "        reviews = browser.find_elements_by_css_selector('em.cr')\n",
    "        reviews = browser.find_elements_by_css_selector('span.comment_score')\n",
    "        for review in reviews:\n",
    "            print(review.text)            \n",
    "            for review in reviews:\n",
    "                score.append(review.text)\n",
    "    \n",
    "    except:              \n",
    "        pass           "
   ]
  },
  {
   "cell_type": "code",
   "execution_count": 20,
   "metadata": {},
   "outputs": [],
   "source": [
    "time.sleep(10)"
   ]
  },
  {
   "cell_type": "code",
   "execution_count": 21,
   "metadata": {
    "scrolled": true
   },
   "outputs": [
    {
     "name": "stdout",
     "output_type": "stream",
     "text": [
      "中国游客的购物美食必去之地…几乎都会中文完全不用担心沟通问题，各种小吃摊，各种品牌云集，还近免税店，方便！\n",
      "明洞简直是国人的天堂！都是卖化妆品的！明洞有一家很大的line''sfriend的店！\n",
      "Great place to stroll around, lots of street in the this, cheaper food and lots of sales. best in evening.\n",
      "This place was so great, I visited on 3 separate occasions during my stay. Shopping was excellent, the people were friendly and nice, the lights bright and food delicious. You have not properly visited South Korea without a stop at Myeong Dong. P.S.The egg pastry bites are amazing!!!! I couldn’t stop eating them.\n",
      "Me encanto para ir de compras encuentras lo que quieras desde comida callejera hasta cafes donde puedes acariciar gatitos tiendas por dond vayas el metro esta cerca, encontraras lo que necesites ya sea en la calle o en centros comerciales en este lugar, muy buen maquillaje coreano por todos lados\n",
      "Myeong Dong is a commercial south of the City Hall and near the Seoul City Train Station. It is also in walking distance to Seoul Tower. The area does have predestrian streets so you can rome freely. The area has many small shops and is good for souvenir hunting. There are some restaurants inthe area including some western style one . A bit crowded at times so pick when you go here carefully.\n",
      "This is great to see at night when eveyrhing is lit up . a place to find some good shopping are get a nice meal. Add this along the way to Seoul Tower. There is a heretage village nearby . The South Gate is also near. The Catholic Cathedral is near and worth a visit\n",
      "you should not miss out on the Street food and variety shopping in Myeongdong. that is where you can find the famous flavoured nuts such as almonds and cashew nuts. try it!!\n",
      "This is the shooting site of RUNNING MAN. I live in TMARK HOTEL near Mingdong, near a subway station, so it's very convenient. There are many shopping malls and cosmetics shops in Mingdong, basically the needs of shopping can be met. As soon as 4 or 5 p.m., vendors came out to set up stalls one after another, and those who had food and those who sold small things. Selling scarves, socks and bags is more expensive than other areas. After all, it is a tourist area, but they are not used to bargaining. Many of the cosmetics sold here are packaged to sell, or bind to sell, more weight, want to buy less can go to Hongda there. As a fashion editor, I like to combine tourism with fashion best. Travel to many countries, slowly complement the strategy, can be interested in attention, there are a lot of thoughts to share with you _____________\n",
      "i feel like heaven in thiz place because of the make up which is everywhere i cant believe that this street is only for fashion and mostly make up i really love this place\n",
      "Myeongdong is a lively place to visit for the urban and hippy shoppers. You can shop for beauty products and snacks and designer clothes. What I love is the street foods area. Enjoy variety of authentic Korean street foods at reasonable prices.\n",
      "it’s a shopping area. lots of restaurants and skin care shops, and night food market with lots of street foods\n",
      "Myeongdong is Korea's best-known shopping district. It is regarded as Taipei's Ximending or Japan's Shibuya Crossing. Shoppers can enjoy shopping for local and international brands of cosmetics, clothes, shoes and accessories at the pedestrian-friendly zone. When you stroll along the streets of Myeongdong, you will notice many stores with different promotions and promoters in front of their stores who will attract guests with free samples of beauty products and immediate tax refund service. Around 4pm until nighttime, you will discover a lot of push carts line-up the streets offering variety of street foods with price ranging from 1,000 to 10,000 won. I strongly recommend travelers to visit Myeongdong at night because some shops only open in the late afternoon until 10pm.One of the most cost-effective ways to get to Myeongdong is through subway lines 2 (Euljiro 1-ga Station, Exit 5 or 6, green line) and 4 (Myeongdong Station, Exit 6, blue line).\n",
      "one of our favorite place to visit while in Seoul! its always dun in Myeongdong!\n",
      "bustling touristy street with many food stands and shops. great for a walk at evening time. there is also a really cute cat caffe nearby. lots of food options.\n",
      "I happened to stumble upon this area as I came out of one of the metro exits and saw lots of alleyways filled with stands for a night market. Excellent food can be found at this street market and there is a huge variety of stores to choose from if you are shopping. I highly recommend a walk through this area!\n",
      "шумно, людно и красиво. очень легко потеряться, если не знать точно, куда идете и что ищете. магазинов, конечно, тьма-тьмущая, но это в основном одни и те же магазины косметики, и в плане одежды выбора не особо много. зато от разных вкусностей глаза разбегаются, можно наесться до отвала. главное помнить, что большинство из них закрываются после 22 - я вышла в 22.30 и уже ничего не нашла.\n",
      "In the daytime, Mingdong is similar to Nanjing Road in Shanghai. It can go shopping in various stores. In the evening, when Mingdong is busiest, all kinds of snack stalls do not need to go into the stores to eat at all. They can basically walk all the way to eat and have enough.\n",
      "The old nest of sticks, Mingdong is the best place to buy cosmetics. I even bought a pile of Sinna noodles, toothpaste and chewing gum. Experienced a gambling, tasted what is called fried chicken and beer better match oh. I just didn't listen to a few words of Smitha. The usual answer is: Sawa, you Kasmida, you're gabbling. Can understand which sentence you take away?\n",
      "This area is Soulful, even if you aren't a shopaholic, there are plenty of things to see, and an array of things to taste. You could spend hours wondering up and down the different streets and alleys.\n",
      "some nice small street with plenty of shops and restaurants . there is a very nice Catholic Cathedral which you can see for free. you are also within walking distance of the south gate and Seoul Tower. there is also a Heretage park nearby that does not seem crowded.\n",
      "lovely place to stay! really fun and interesting to just walk around in this area. great coffee and street food, all sorts of beauty stores!\n",
      "Food and entertainment street, much like Xidan Wangfujing, snacks average about 30 yuan, some traditional snacks, a street side eating and playing, stomach will be very full, snack stalls can find beautiful women and handsome men.\n",
      "Mingdong, Seoul should be the first place to shop. Female compatriots in the same trade began to get excited when they heard the name. Open cave is very big, a good day is not enough, mainly cosmetics are more popular, of course, there are clothes, jewelry and so on. Children like the long ice cream here. It's not sweet, but it's better than novelty. There is an iron shed in Mingdong, at the end of a street where money is exchanged most often in Korea.\n",
      "This is a great neighborhood! There are many great guesthouses and hotels in the area. It is close to Seoul tower and is a world class shopping district. There is a wide selection of stores and fantastic eateries.\n",
      "Interesting area with quite a number of cute places , shops , restaurants and night market . I prefer this area over Gangnam area which is to large and takes too long time to walk. Recomendable for tourists.\n",
      "MyeongDong is a goodplace to visit for shopping,cheapest price also near duty free,near to the train,subway station.lots of vendors selling anything dress,bags,foods.So much enjoy and fantastic\n",
      "Great shopping area! Make sure to try the street food and Korean bbq! There is also a rooftop bar close to there where you can take a picture with the Seoul sign and Seoul tower in the background.\n",
      "In the afternoon, I went to Mingdong. There were many street snacks, ranging from 2000 to 4000 won. They were delicious. In addition, cosmetics stores of all sizes, clothing, shoes and yards are all available.\n",
      "good place for sightseeing, shopping, eating.a lot of street food, shops, people.you will enjoy your trip for sure.\n",
      "Mingdong Commercial Pedestrian Street is a must for tourists to Seoul. In particular, holidays are crowded, bustling and extraordinary. It's New Year's Day in 2017. Tourists and food are not happy.\n",
      "the most famous touristic streets in Asia! streetfood, korean cosmetics and clothes, asian cousine, music - that is all makes a great atmosphere of staying there! if you go to Seoul it’s a place to must visit in the evening!\n"
     ]
    },
    {
     "name": "stdout",
     "output_type": "stream",
     "text": [
      "myeongdong cathedral we can roam around to see the beautiful placeshopping center of south korea\n",
      "If you are interested in Koreab beauty, there's not better place than Myeong Dong, a lot of stores for shopping, you can spend a whole day there.\n",
      "Located in central Seoul, it is a representative shopping street in South Korea. It can buy not only clothes, shoes, groceries and cosmetics, but also various catering stores. At the same time, banks and securities companies gather here. There are many convenience stores, supermarkets, you can buy a pile of snacks back home. The night market is very busy.\n",
      "For people who love shopping, this is a paradise, of course. There are also many delicacies hidden here. Because there are local students to take us out, so whether it is communication or time saving, it is very convenient. At night, it has a unique charm. There will be a lot of foreign friends gathered here. Speak all kinds of languages, be happy!\n",
      "Really cool area. I stay here every time I come. Lots to see and do. And eat. Lots of street vendors at night.\n",
      "Mingdong in Seoul is a paradise for young people to shop. I live in the back of the Ibis Ambassador Hotel and go out in the back alley of the open cave. I eat a lot. The room is small but clean. It's not suitable for a family with small children, but it's very convenient to buy things and play for a day or two. The airport bus stops at the gate.\n",
      "it’s beautiful market, there is a lot of delicious Street food , I like this place\n",
      "Myeongdong is just like other market, selling typical local snacks and quite pricy but for the first comer its nice to visit\n",
      "Most popular tourust area in Seoul. You can find there everything you need: shops, restaurants, bars, money excange. Must visit at least once if you re in Seoul\n",
      "Shops of all sizes, chessboard streets, are all shops, there are stalls on the road night market, do not close at midnight. Chinese waiters are everywhere, and Chinese characters are on the booth. Anyway, don't worry if you can't speak Korean.\n",
      "确实便宜 还有 很多 美食和 小吃 附近的酒店也不少很方便\n",
      "。。。。。。。。。。。。。。。\n",
      "来韩国必须要去的地方，各种本土化妆品牌云集，还有各类韩国小吃，还有美女，韩国欧巴，可以逛一整天，到处都是小店，刷卡购物很方便 都会中文\n",
      "很好逛的明洞 化妝品價格優惠很好買\n",
      "明洞有很多专柜，还有一个Line，到明洞必去他家和布朗熊拍照！还有很多路边小吃，最近这家无骨鸡爪特别火\n",
      "明洞很热闹的一个地方 以前没去过 这次去了之后才发现 明洞是如此的大呀 想兜遍需要点时间的 这次太赶了 下次如果还有机会一定要再去一次 好好逛逛\n",
      "绝对是韩国的代表地！几条纵横交错的街道全是购物天堂！韩妆、韩国服饰、韩国美眉都可以看到！地标性地点！\n",
      "很热闹的地方，吃的买的太多了，逛累了找个小店吃点东西休息休息也很不错\n"
     ]
    }
   ],
   "source": [
    "text=[]\n",
    "\n",
    "for link in more_links:  \n",
    "    try:\n",
    "        link.click()   \n",
    "        \n",
    "        reviews = browser.find_elements_by_css_selector('a')\n",
    "        reviews = browser.find_elements_by_css_selector('em.cr')\n",
    "        reviews = browser.find_elements_by_css_selector('p.mt10')\n",
    "        for review in reviews:\n",
    "            print(review.text)            \n",
    "            for review in reviews:\n",
    "                text.append(review.text)\n",
    "    \n",
    "    except:              \n",
    "        pass           "
   ]
  },
  {
   "cell_type": "code",
   "execution_count": 22,
   "metadata": {},
   "outputs": [],
   "source": [
    "df = pd.DataFrame({'score': score, 'text': text})"
   ]
  },
  {
   "cell_type": "code",
   "execution_count": 23,
   "metadata": {
    "scrolled": true
   },
   "outputs": [
    {
     "data": {
      "text/html": [
       "<div>\n",
       "<style scoped>\n",
       "    .dataframe tbody tr th:only-of-type {\n",
       "        vertical-align: middle;\n",
       "    }\n",
       "\n",
       "    .dataframe tbody tr th {\n",
       "        vertical-align: top;\n",
       "    }\n",
       "\n",
       "    .dataframe thead th {\n",
       "        text-align: right;\n",
       "    }\n",
       "</style>\n",
       "<table border=\"1\" class=\"dataframe\">\n",
       "  <thead>\n",
       "    <tr style=\"text-align: right;\">\n",
       "      <th></th>\n",
       "      <th>score</th>\n",
       "      <th>text</th>\n",
       "    </tr>\n",
       "  </thead>\n",
       "  <tbody>\n",
       "    <tr>\n",
       "      <th>0</th>\n",
       "      <td>5.0</td>\n",
       "      <td>中国游客的购物美食必去之地…几乎都会中文完全不用担心沟通问题，各种小吃摊，各种品牌云集，还近...</td>\n",
       "    </tr>\n",
       "    <tr>\n",
       "      <th>1</th>\n",
       "      <td>5.0</td>\n",
       "      <td>明洞简直是国人的天堂！都是卖化妆品的！明洞有一家很大的line''sfriend的店！</td>\n",
       "    </tr>\n",
       "    <tr>\n",
       "      <th>2</th>\n",
       "      <td>5.0</td>\n",
       "      <td>确实便宜 还有 很多 美食和 小吃 附近的酒店也不少很方便</td>\n",
       "    </tr>\n",
       "    <tr>\n",
       "      <th>3</th>\n",
       "      <td>5.0</td>\n",
       "      <td>。。。。。。。。。。。。。。。</td>\n",
       "    </tr>\n",
       "    <tr>\n",
       "      <th>4</th>\n",
       "      <td>5.0</td>\n",
       "      <td>来韩国必须要去的地方，各种本土化妆品牌云集，还有各类韩国小吃，还有美女，韩国欧巴，可以逛一整...</td>\n",
       "    </tr>\n",
       "    <tr>\n",
       "      <th>...</th>\n",
       "      <td>...</td>\n",
       "      <td>...</td>\n",
       "    </tr>\n",
       "    <tr>\n",
       "      <th>495</th>\n",
       "      <td>5.0</td>\n",
       "      <td>很好逛的明洞 化妝品價格優惠很好買</td>\n",
       "    </tr>\n",
       "    <tr>\n",
       "      <th>496</th>\n",
       "      <td>5.0</td>\n",
       "      <td>明洞有很多专柜，还有一个Line，到明洞必去他家和布朗熊拍照！还有很多路边小吃，最近这家无骨...</td>\n",
       "    </tr>\n",
       "    <tr>\n",
       "      <th>497</th>\n",
       "      <td>5.0</td>\n",
       "      <td>明洞很热闹的一个地方 以前没去过 这次去了之后才发现 明洞是如此的大呀 想兜遍需要点时间的 ...</td>\n",
       "    </tr>\n",
       "    <tr>\n",
       "      <th>498</th>\n",
       "      <td>5.0</td>\n",
       "      <td>绝对是韩国的代表地！几条纵横交错的街道全是购物天堂！韩妆、韩国服饰、韩国美眉都可以看到！地标...</td>\n",
       "    </tr>\n",
       "    <tr>\n",
       "      <th>499</th>\n",
       "      <td>5.0</td>\n",
       "      <td>很热闹的地方，吃的买的太多了，逛累了找个小店吃点东西休息休息也很不错</td>\n",
       "    </tr>\n",
       "  </tbody>\n",
       "</table>\n",
       "<p>500 rows × 2 columns</p>\n",
       "</div>"
      ],
      "text/plain": [
       "    score                                               text\n",
       "0     5.0  中国游客的购物美食必去之地…几乎都会中文完全不用担心沟通问题，各种小吃摊，各种品牌云集，还近...\n",
       "1     5.0        明洞简直是国人的天堂！都是卖化妆品的！明洞有一家很大的line''sfriend的店！\n",
       "2     5.0                      确实便宜 还有 很多 美食和 小吃 附近的酒店也不少很方便\n",
       "3     5.0                                    。。。。。。。。。。。。。。。\n",
       "4     5.0  来韩国必须要去的地方，各种本土化妆品牌云集，还有各类韩国小吃，还有美女，韩国欧巴，可以逛一整...\n",
       "..    ...                                                ...\n",
       "495   5.0                                  很好逛的明洞 化妝品價格優惠很好買\n",
       "496   5.0  明洞有很多专柜，还有一个Line，到明洞必去他家和布朗熊拍照！还有很多路边小吃，最近这家无骨...\n",
       "497   5.0  明洞很热闹的一个地方 以前没去过 这次去了之后才发现 明洞是如此的大呀 想兜遍需要点时间的 ...\n",
       "498   5.0  绝对是韩国的代表地！几条纵横交错的街道全是购物天堂！韩妆、韩国服饰、韩国美眉都可以看到！地标...\n",
       "499   5.0                 很热闹的地方，吃的买的太多了，逛累了找个小店吃点东西休息休息也很不错\n",
       "\n",
       "[500 rows x 2 columns]"
      ]
     },
     "execution_count": 23,
     "metadata": {},
     "output_type": "execute_result"
    }
   ],
   "source": [
    "df"
   ]
  },
  {
   "cell_type": "code",
   "execution_count": 24,
   "metadata": {},
   "outputs": [
    {
     "ename": "ImportError",
     "evalue": "No module named 'openpyxl'",
     "output_type": "error",
     "traceback": [
      "\u001b[1;31m---------------------------------------------------------------------------\u001b[0m",
      "\u001b[1;31mImportError\u001b[0m                               Traceback (most recent call last)",
      "\u001b[1;32m<ipython-input-24-7d2543cb4501>\u001b[0m in \u001b[0;36m<module>\u001b[1;34m\u001b[0m\n\u001b[1;32m----> 1\u001b[1;33m \u001b[0mdf\u001b[0m\u001b[1;33m.\u001b[0m\u001b[0mto_excel\u001b[0m\u001b[1;33m(\u001b[0m\u001b[1;34m'명동1페이지.xlsx'\u001b[0m\u001b[1;33m)\u001b[0m\u001b[1;33m\u001b[0m\u001b[0m\n\u001b[0m",
      "\u001b[1;32mc:\\users\\parkminwoo\\appdata\\local\\programs\\python\\python35\\lib\\site-packages\\pandas\\core\\generic.py\u001b[0m in \u001b[0;36mto_excel\u001b[1;34m(self, excel_writer, sheet_name, na_rep, float_format, columns, header, index, index_label, startrow, startcol, engine, merge_cells, encoding, inf_rep, verbose, freeze_panes)\u001b[0m\n\u001b[0;32m   2254\u001b[0m             \u001b[0mstartcol\u001b[0m\u001b[1;33m=\u001b[0m\u001b[0mstartcol\u001b[0m\u001b[1;33m,\u001b[0m\u001b[1;33m\u001b[0m\u001b[0m\n\u001b[0;32m   2255\u001b[0m             \u001b[0mfreeze_panes\u001b[0m\u001b[1;33m=\u001b[0m\u001b[0mfreeze_panes\u001b[0m\u001b[1;33m,\u001b[0m\u001b[1;33m\u001b[0m\u001b[0m\n\u001b[1;32m-> 2256\u001b[1;33m             \u001b[0mengine\u001b[0m\u001b[1;33m=\u001b[0m\u001b[0mengine\u001b[0m\u001b[1;33m,\u001b[0m\u001b[1;33m\u001b[0m\u001b[0m\n\u001b[0m\u001b[0;32m   2257\u001b[0m         )\n\u001b[0;32m   2258\u001b[0m \u001b[1;33m\u001b[0m\u001b[0m\n",
      "\u001b[1;32mc:\\users\\parkminwoo\\appdata\\local\\programs\\python\\python35\\lib\\site-packages\\pandas\\io\\formats\\excel.py\u001b[0m in \u001b[0;36mwrite\u001b[1;34m(self, writer, sheet_name, startrow, startcol, freeze_panes, engine)\u001b[0m\n\u001b[0;32m    728\u001b[0m             \u001b[0mneed_save\u001b[0m \u001b[1;33m=\u001b[0m \u001b[1;32mFalse\u001b[0m\u001b[1;33m\u001b[0m\u001b[0m\n\u001b[0;32m    729\u001b[0m         \u001b[1;32melse\u001b[0m\u001b[1;33m:\u001b[0m\u001b[1;33m\u001b[0m\u001b[0m\n\u001b[1;32m--> 730\u001b[1;33m             \u001b[0mwriter\u001b[0m \u001b[1;33m=\u001b[0m \u001b[0mExcelWriter\u001b[0m\u001b[1;33m(\u001b[0m\u001b[0m_stringify_path\u001b[0m\u001b[1;33m(\u001b[0m\u001b[0mwriter\u001b[0m\u001b[1;33m)\u001b[0m\u001b[1;33m,\u001b[0m \u001b[0mengine\u001b[0m\u001b[1;33m=\u001b[0m\u001b[0mengine\u001b[0m\u001b[1;33m)\u001b[0m\u001b[1;33m\u001b[0m\u001b[0m\n\u001b[0m\u001b[0;32m    731\u001b[0m             \u001b[0mneed_save\u001b[0m \u001b[1;33m=\u001b[0m \u001b[1;32mTrue\u001b[0m\u001b[1;33m\u001b[0m\u001b[0m\n\u001b[0;32m    732\u001b[0m \u001b[1;33m\u001b[0m\u001b[0m\n",
      "\u001b[1;32mc:\\users\\parkminwoo\\appdata\\local\\programs\\python\\python35\\lib\\site-packages\\pandas\\io\\excel\\_openpyxl.py\u001b[0m in \u001b[0;36m__init__\u001b[1;34m(self, path, engine, mode, **engine_kwargs)\u001b[0m\n\u001b[0;32m     17\u001b[0m     \u001b[1;32mdef\u001b[0m \u001b[0m__init__\u001b[0m\u001b[1;33m(\u001b[0m\u001b[0mself\u001b[0m\u001b[1;33m,\u001b[0m \u001b[0mpath\u001b[0m\u001b[1;33m,\u001b[0m \u001b[0mengine\u001b[0m\u001b[1;33m=\u001b[0m\u001b[1;32mNone\u001b[0m\u001b[1;33m,\u001b[0m \u001b[0mmode\u001b[0m\u001b[1;33m=\u001b[0m\u001b[1;34m\"w\"\u001b[0m\u001b[1;33m,\u001b[0m \u001b[1;33m**\u001b[0m\u001b[0mengine_kwargs\u001b[0m\u001b[1;33m)\u001b[0m\u001b[1;33m:\u001b[0m\u001b[1;33m\u001b[0m\u001b[0m\n\u001b[0;32m     18\u001b[0m         \u001b[1;31m# Use the openpyxl module as the Excel writer.\u001b[0m\u001b[1;33m\u001b[0m\u001b[1;33m\u001b[0m\u001b[0m\n\u001b[1;32m---> 19\u001b[1;33m         \u001b[1;32mfrom\u001b[0m \u001b[0mopenpyxl\u001b[0m\u001b[1;33m.\u001b[0m\u001b[0mworkbook\u001b[0m \u001b[1;32mimport\u001b[0m \u001b[0mWorkbook\u001b[0m\u001b[1;33m\u001b[0m\u001b[0m\n\u001b[0m\u001b[0;32m     20\u001b[0m \u001b[1;33m\u001b[0m\u001b[0m\n\u001b[0;32m     21\u001b[0m         \u001b[0msuper\u001b[0m\u001b[1;33m(\u001b[0m\u001b[1;33m)\u001b[0m\u001b[1;33m.\u001b[0m\u001b[0m__init__\u001b[0m\u001b[1;33m(\u001b[0m\u001b[0mpath\u001b[0m\u001b[1;33m,\u001b[0m \u001b[0mmode\u001b[0m\u001b[1;33m=\u001b[0m\u001b[0mmode\u001b[0m\u001b[1;33m,\u001b[0m \u001b[1;33m**\u001b[0m\u001b[0mengine_kwargs\u001b[0m\u001b[1;33m)\u001b[0m\u001b[1;33m\u001b[0m\u001b[0m\n",
      "\u001b[1;31mImportError\u001b[0m: No module named 'openpyxl'"
     ]
    }
   ],
   "source": [
    "df.to_excel('명동1페이지.xlsx')"
   ]
  },
  {
   "cell_type": "code",
   "execution_count": null,
   "metadata": {},
   "outputs": [],
   "source": []
  }
 ],
 "metadata": {
  "kernelspec": {
   "display_name": "Python 3",
   "language": "python",
   "name": "python3"
  },
  "language_info": {
   "codemirror_mode": {
    "name": "ipython",
    "version": 3
   },
   "file_extension": ".py",
   "mimetype": "text/x-python",
   "name": "python",
   "nbconvert_exporter": "python",
   "pygments_lexer": "ipython3",
   "version": "3.5.3"
  }
 },
 "nbformat": 4,
 "nbformat_minor": 4
}
