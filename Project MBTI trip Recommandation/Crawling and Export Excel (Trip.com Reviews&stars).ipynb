{
 "cells": [
  {
   "cell_type": "code",
   "execution_count": 1,
   "metadata": {},
   "outputs": [],
   "source": [
    "#!pip install cssselect       # css 소스 중 원하는 것을 크롤링하기 위한 css select\n",
    "#!pip install selenium        # 페이지 내에 클릭을 구현해주는 selenium\n",
    "#!pip install lxml            \n",
    "#!pip install openpyxl         # excel 파일 가공을 위한 openyxl\n",
    "#!pip install bs4              # 다른 방법의 크롤링을 위한 beautiful soup"
   ]
  },
  {
   "cell_type": "code",
   "execution_count": 67,
   "metadata": {},
   "outputs": [],
   "source": [
    "import urllib.parse\n",
    "import time\n",
    "import requests\n",
    "import lxml.html\n",
    "import pandas as pd\n",
    "from selenium.webdriver import Chrome\n",
    "from selenium import webdriver\n",
    "import requests\n",
    "from bs4 import BeautifulSoup\n",
    "import re\n",
    "from urllib.request import Request, urlopen\n",
    "\n",
    "import sys\n",
    "mod = sys.modules[__name__]"
   ]
  },
  {
   "cell_type": "code",
   "execution_count": 77,
   "metadata": {},
   "outputs": [],
   "source": [
    "#browser = webdriver.Chrome('C:/Users/parkminwoo/Desktop/R/chromedriver_win32/chromedriver.exe')\n",
    "browser = webdriver.Chrome('/Users/HumanRevolution/jupytercreation/chromedriver')\n",
    "url = 'https://www.trip.com/travel-guide/seoul-234/tourist-attractions/'\n",
    "browser.get(url)"
   ]
  },
  {
   "cell_type": "code",
   "execution_count": 78,
   "metadata": {
    "scrolled": true
   },
   "outputs": [],
   "source": [
    "score, text = [],[]\n",
    "\n",
    "for i in range(2):\n",
    "    soup = BeautifulSoup(urlopen(\"https://www.trip.com/travel-guide/seoul-234/tourist-attractions/\"+ str(i+1)), \"html.parser\")\n",
    "    for link in soup.find(\"div\", {\"class\":\"jsx-2566084683 gl-poi-list_list\"}).findAll(\"a\"):\n",
    "        if 'href' in link.attrs:\n",
    "            browser.get(link.attrs['href'])\n",
    "            for i in range(2) :\n",
    "                try:\n",
    "                    stars = browser.find_elements_by_css_selector('a')\n",
    "                    stars = browser.find_elements_by_css_selector('em.cr')\n",
    "                    stars = browser.find_elements_by_css_selector('span.comment_score')\n",
    "                    for star in stars:\n",
    "                        score.append(star.text)\n",
    "                    reviews = browser.find_elements_by_css_selector('a')\n",
    "                    reviews = browser.find_elements_by_css_selector('em.cr')\n",
    "                    reviews = browser.find_elements_by_css_selector('p.mt10')\n",
    "                    for review in reviews:\n",
    "                        text.append(review.text)\n",
    "\n",
    "                    nextpage=browser.find_elements_by_css_selector('button.btn-next')\n",
    "                    nextpage[0].click()\n",
    "\n",
    "                except:\n",
    "                    pass\n",
    "            data = pd.DataFrame({'score': score, 'text': text})\n",
    "            filename = '%s.xlsx'%link.attrs['title']\n",
    "            data.to_excel(filename, encoding='cp949')"
   ]
  },
  {
   "cell_type": "code",
   "execution_count": 80,
   "metadata": {},
   "outputs": [
    {
     "data": {
      "text/plain": [
       "(398, 398)"
      ]
     },
     "execution_count": 80,
     "metadata": {},
     "output_type": "execute_result"
    }
   ],
   "source": [
    "len(score), len(text)"
   ]
  },
  {
   "cell_type": "code",
   "execution_count": 66,
   "metadata": {},
   "outputs": [
    {
     "data": {
      "text/plain": [
       "('5.0', 'Cox is super big, and the aquarium is where you hear your voice.')"
      ]
     },
     "execution_count": 66,
     "metadata": {},
     "output_type": "execute_result"
    }
   ],
   "source": [
    "score[-1],text[-1]"
   ]
  },
  {
   "cell_type": "code",
   "execution_count": 10,
   "metadata": {},
   "outputs": [
    {
     "data": {
      "text/html": [
       "<div>\n",
       "<style scoped>\n",
       "    .dataframe tbody tr th:only-of-type {\n",
       "        vertical-align: middle;\n",
       "    }\n",
       "\n",
       "    .dataframe tbody tr th {\n",
       "        vertical-align: top;\n",
       "    }\n",
       "\n",
       "    .dataframe thead th {\n",
       "        text-align: right;\n",
       "    }\n",
       "</style>\n",
       "<table border=\"1\" class=\"dataframe\">\n",
       "  <thead>\n",
       "    <tr style=\"text-align: right;\">\n",
       "      <th></th>\n",
       "      <th>score</th>\n",
       "      <th>text</th>\n",
       "    </tr>\n",
       "  </thead>\n",
       "  <tbody>\n",
       "    <tr>\n",
       "      <th>0</th>\n",
       "      <td>5.0</td>\n",
       "      <td>明洞实在人太多了，站在路上放眼望去都是人。地图上看着小小块儿，但是站在路中间，小路一转弯，还...</td>\n",
       "    </tr>\n",
       "    <tr>\n",
       "      <th>1</th>\n",
       "      <td>5.0</td>\n",
       "      <td>去首尔怎么都绕不过明洞，在首尔的5天我和小伙伴总结出了一句话：“出来混总是要回明洞的”。我们...</td>\n",
       "    </tr>\n",
       "    <tr>\n",
       "      <th>2</th>\n",
       "      <td>5.0</td>\n",
       "      <td>首尔的购物天堂 各种化妆品店服装店商场咖啡厅餐厅聚集地。喜欢购物不要错过 另外在明洞还看了 ...</td>\n",
       "    </tr>\n",
       "    <tr>\n",
       "      <th>3</th>\n",
       "      <td>5.0</td>\n",
       "      <td>小牌子很多，价格实惠，值得每年去一次</td>\n",
       "    </tr>\n",
       "    <tr>\n",
       "      <th>4</th>\n",
       "      <td>5.0</td>\n",
       "      <td>很好玩的地方，逛吃购物皆有，很开心!我们一行四人吃了烧烤，购了化妆品，逛了小铺，满载而归啊！...</td>\n",
       "    </tr>\n",
       "    <tr>\n",
       "      <th>...</th>\n",
       "      <td>...</td>\n",
       "      <td>...</td>\n",
       "    </tr>\n",
       "    <tr>\n",
       "      <th>95</th>\n",
       "      <td>5.0</td>\n",
       "      <td>明洞集吃、喝、玩一体，在这里逛一天也不累。好吃的：姜虎东烤肉、古宫、本粥等，小吃也不少：大肠...</td>\n",
       "    </tr>\n",
       "    <tr>\n",
       "      <th>96</th>\n",
       "      <td>5.0</td>\n",
       "      <td>人文风气特别好，手机丢了，被捡到直接交到服务台，很意外的连都完好无损的躺在服务台，景色也不错...</td>\n",
       "    </tr>\n",
       "    <tr>\n",
       "      <th>97</th>\n",
       "      <td>5.0</td>\n",
       "      <td>明洞人是真的很多，商业店铺也特别的多，在这里吃到了向往的骨头汤饭，感觉所有的人都会来一两句中...</td>\n",
       "    </tr>\n",
       "    <tr>\n",
       "      <th>98</th>\n",
       "      <td>5.0</td>\n",
       "      <td>烤龙虾15000，很新鲜，加的芝士，味道不错！商店很多，没什么可买的。晚上的小吃很多，比白天...</td>\n",
       "    </tr>\n",
       "    <tr>\n",
       "      <th>99</th>\n",
       "      <td>5.0</td>\n",
       "      <td>第二次去了，怎么说呢，分分钟感觉时间不够用，吃不够逛不够买不够。如果年轻人呢真的建议住明洞方...</td>\n",
       "    </tr>\n",
       "  </tbody>\n",
       "</table>\n",
       "<p>100 rows × 2 columns</p>\n",
       "</div>"
      ],
      "text/plain": [
       "   score                                               text\n",
       "0    5.0  明洞实在人太多了，站在路上放眼望去都是人。地图上看着小小块儿，但是站在路中间，小路一转弯，还...\n",
       "1    5.0  去首尔怎么都绕不过明洞，在首尔的5天我和小伙伴总结出了一句话：“出来混总是要回明洞的”。我们...\n",
       "2    5.0  首尔的购物天堂 各种化妆品店服装店商场咖啡厅餐厅聚集地。喜欢购物不要错过 另外在明洞还看了 ...\n",
       "3    5.0                                 小牌子很多，价格实惠，值得每年去一次\n",
       "4    5.0  很好玩的地方，逛吃购物皆有，很开心!我们一行四人吃了烧烤，购了化妆品，逛了小铺，满载而归啊！...\n",
       "..   ...                                                ...\n",
       "95   5.0  明洞集吃、喝、玩一体，在这里逛一天也不累。好吃的：姜虎东烤肉、古宫、本粥等，小吃也不少：大肠...\n",
       "96   5.0  人文风气特别好，手机丢了，被捡到直接交到服务台，很意外的连都完好无损的躺在服务台，景色也不错...\n",
       "97   5.0  明洞人是真的很多，商业店铺也特别的多，在这里吃到了向往的骨头汤饭，感觉所有的人都会来一两句中...\n",
       "98   5.0  烤龙虾15000，很新鲜，加的芝士，味道不错！商店很多，没什么可买的。晚上的小吃很多，比白天...\n",
       "99   5.0  第二次去了，怎么说呢，分分钟感觉时间不够用，吃不够逛不够买不够。如果年轻人呢真的建议住明洞方...\n",
       "\n",
       "[100 rows x 2 columns]"
      ]
     },
     "execution_count": 10,
     "metadata": {},
     "output_type": "execute_result"
    }
   ],
   "source": [
    "data1 = pd.DataFrame({'names':names, 'href':sites, 'score': score, 'text': text})\n",
    "data1"
   ]
  },
  {
   "cell_type": "code",
   "execution_count": null,
   "metadata": {},
   "outputs": [],
   "source": [
    "#data.to_excel('명동.xlsx')\n",
    "#import pandas as pd\n",
    "import sys\n",
    "mod = sys.modules[__name__]\n",
    "# 2007년부터 2020년까지의 매매기록을\n",
    "# salse_2007 ~ sales_2020 까지의 데이터프레임으로 각각 저장\n",
    "for i in range(2007, 2021):\n",
    "    filename = 'data/시세/아파트매매/아파트(매매)%d.csv'%i\n",
    "    setattr(mod, 'sales_{}'.format(i), a.to_csv('{}.xlsx'.format(a[0]), encoding='cp949'))"
   ]
  }
 ],
 "metadata": {
  "kernelspec": {
   "display_name": "Python 3",
   "language": "python",
   "name": "python3"
  },
  "language_info": {
   "codemirror_mode": {
    "name": "ipython",
    "version": 3
   },
   "file_extension": ".py",
   "mimetype": "text/x-python",
   "name": "python",
   "nbconvert_exporter": "python",
   "pygments_lexer": "ipython3",
   "version": "3.7.6"
  }
 },
 "nbformat": 4,
 "nbformat_minor": 4
}
